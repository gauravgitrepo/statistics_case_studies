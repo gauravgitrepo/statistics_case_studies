{
 "cells": [
  {
   "cell_type": "code",
   "execution_count": 1,
   "metadata": {},
   "outputs": [],
   "source": [
    "####BASIC STATS 2####"
   ]
  },
  {
   "cell_type": "code",
   "execution_count": 1,
   "metadata": {},
   "outputs": [],
   "source": [
    "import pandas as pd\n",
    "import numpy as np\n",
    "from matplotlib import pyplot as plt\n",
    "from scipy import stats as stats"
   ]
  },
  {
   "cell_type": "code",
   "execution_count": 2,
   "metadata": {},
   "outputs": [],
   "source": [
    "inp=pd.read_csv(r'C:\\Users\\goura\\Downloads\\Gaurav_data_science\\Basic Python Stats Modelling\\Assignments\\STATS Assignments\\8. Basic Stats - Case Study-2\\Testing_Of_Hypothesis.csv')"
   ]
  },
  {
   "cell_type": "code",
   "execution_count": 5,
   "metadata": {},
   "outputs": [
    {
     "data": {
      "text/html": [
       "<div>\n",
       "<style scoped>\n",
       "    .dataframe tbody tr th:only-of-type {\n",
       "        vertical-align: middle;\n",
       "    }\n",
       "\n",
       "    .dataframe tbody tr th {\n",
       "        vertical-align: top;\n",
       "    }\n",
       "\n",
       "    .dataframe thead th {\n",
       "        text-align: right;\n",
       "    }\n",
       "</style>\n",
       "<table border=\"1\" class=\"dataframe\">\n",
       "  <thead>\n",
       "    <tr style=\"text-align: right;\">\n",
       "      <th></th>\n",
       "      <th>Sr No</th>\n",
       "      <th>S_Cust_id</th>\n",
       "      <th>Samsung Score</th>\n",
       "      <th>Apple_Cust_id</th>\n",
       "      <th>Apple_Score</th>\n",
       "    </tr>\n",
       "  </thead>\n",
       "  <tbody>\n",
       "    <tr>\n",
       "      <th>0</th>\n",
       "      <td>1</td>\n",
       "      <td>S336499</td>\n",
       "      <td>94</td>\n",
       "      <td>A336525</td>\n",
       "      <td>82</td>\n",
       "    </tr>\n",
       "    <tr>\n",
       "      <th>1</th>\n",
       "      <td>2</td>\n",
       "      <td>S73004</td>\n",
       "      <td>99</td>\n",
       "      <td>A73011</td>\n",
       "      <td>83</td>\n",
       "    </tr>\n",
       "    <tr>\n",
       "      <th>2</th>\n",
       "      <td>3</td>\n",
       "      <td>S79537</td>\n",
       "      <td>74</td>\n",
       "      <td>A79538</td>\n",
       "      <td>88</td>\n",
       "    </tr>\n",
       "    <tr>\n",
       "      <th>3</th>\n",
       "      <td>4</td>\n",
       "      <td>S769168</td>\n",
       "      <td>74</td>\n",
       "      <td>A769222</td>\n",
       "      <td>80</td>\n",
       "    </tr>\n",
       "    <tr>\n",
       "      <th>4</th>\n",
       "      <td>5</td>\n",
       "      <td>S609791</td>\n",
       "      <td>83</td>\n",
       "      <td>A609801</td>\n",
       "      <td>74</td>\n",
       "    </tr>\n",
       "    <tr>\n",
       "      <th>...</th>\n",
       "      <td>...</td>\n",
       "      <td>...</td>\n",
       "      <td>...</td>\n",
       "      <td>...</td>\n",
       "      <td>...</td>\n",
       "    </tr>\n",
       "    <tr>\n",
       "      <th>95</th>\n",
       "      <td>96</td>\n",
       "      <td>S285617</td>\n",
       "      <td>77</td>\n",
       "      <td>A285629</td>\n",
       "      <td>87</td>\n",
       "    </tr>\n",
       "    <tr>\n",
       "      <th>96</th>\n",
       "      <td>97</td>\n",
       "      <td>S324135</td>\n",
       "      <td>85</td>\n",
       "      <td>A324151</td>\n",
       "      <td>82</td>\n",
       "    </tr>\n",
       "    <tr>\n",
       "      <th>97</th>\n",
       "      <td>98</td>\n",
       "      <td>S292076</td>\n",
       "      <td>83</td>\n",
       "      <td>A292091</td>\n",
       "      <td>88</td>\n",
       "    </tr>\n",
       "    <tr>\n",
       "      <th>98</th>\n",
       "      <td>99</td>\n",
       "      <td>S936528</td>\n",
       "      <td>82</td>\n",
       "      <td>A936566</td>\n",
       "      <td>91</td>\n",
       "    </tr>\n",
       "    <tr>\n",
       "      <th>99</th>\n",
       "      <td>100</td>\n",
       "      <td>S489010</td>\n",
       "      <td>100</td>\n",
       "      <td>A489031</td>\n",
       "      <td>95</td>\n",
       "    </tr>\n",
       "  </tbody>\n",
       "</table>\n",
       "<p>100 rows × 5 columns</p>\n",
       "</div>"
      ],
      "text/plain": [
       "    Sr No S_Cust_id  Samsung Score Apple_Cust_id  Apple_Score\n",
       "0       1   S336499             94       A336525           82\n",
       "1       2    S73004             99        A73011           83\n",
       "2       3    S79537             74        A79538           88\n",
       "3       4   S769168             74       A769222           80\n",
       "4       5   S609791             83       A609801           74\n",
       "..    ...       ...            ...           ...          ...\n",
       "95     96   S285617             77       A285629           87\n",
       "96     97   S324135             85       A324151           82\n",
       "97     98   S292076             83       A292091           88\n",
       "98     99   S936528             82       A936566           91\n",
       "99    100   S489010            100       A489031           95\n",
       "\n",
       "[100 rows x 5 columns]"
      ]
     },
     "execution_count": 5,
     "metadata": {},
     "output_type": "execute_result"
    }
   ],
   "source": [
    "inp"
   ]
  },
  {
   "cell_type": "code",
   "execution_count": 35,
   "metadata": {},
   "outputs": [],
   "source": [
    "inp.rename(columns={'Samsung Score':'Samsung_Score'},inplace=True)"
   ]
  },
  {
   "cell_type": "code",
   "execution_count": 36,
   "metadata": {},
   "outputs": [
    {
     "data": {
      "text/html": [
       "<div>\n",
       "<style scoped>\n",
       "    .dataframe tbody tr th:only-of-type {\n",
       "        vertical-align: middle;\n",
       "    }\n",
       "\n",
       "    .dataframe tbody tr th {\n",
       "        vertical-align: top;\n",
       "    }\n",
       "\n",
       "    .dataframe thead th {\n",
       "        text-align: right;\n",
       "    }\n",
       "</style>\n",
       "<table border=\"1\" class=\"dataframe\">\n",
       "  <thead>\n",
       "    <tr style=\"text-align: right;\">\n",
       "      <th></th>\n",
       "      <th>Sr No</th>\n",
       "      <th>S_Cust_id</th>\n",
       "      <th>Samsung_Score</th>\n",
       "      <th>Apple_Cust_id</th>\n",
       "      <th>Apple_Score</th>\n",
       "    </tr>\n",
       "  </thead>\n",
       "  <tbody>\n",
       "    <tr>\n",
       "      <th>0</th>\n",
       "      <td>1</td>\n",
       "      <td>S336499</td>\n",
       "      <td>94</td>\n",
       "      <td>A336525</td>\n",
       "      <td>82</td>\n",
       "    </tr>\n",
       "    <tr>\n",
       "      <th>1</th>\n",
       "      <td>2</td>\n",
       "      <td>S73004</td>\n",
       "      <td>99</td>\n",
       "      <td>A73011</td>\n",
       "      <td>83</td>\n",
       "    </tr>\n",
       "    <tr>\n",
       "      <th>2</th>\n",
       "      <td>3</td>\n",
       "      <td>S79537</td>\n",
       "      <td>74</td>\n",
       "      <td>A79538</td>\n",
       "      <td>88</td>\n",
       "    </tr>\n",
       "    <tr>\n",
       "      <th>3</th>\n",
       "      <td>4</td>\n",
       "      <td>S769168</td>\n",
       "      <td>74</td>\n",
       "      <td>A769222</td>\n",
       "      <td>80</td>\n",
       "    </tr>\n",
       "    <tr>\n",
       "      <th>4</th>\n",
       "      <td>5</td>\n",
       "      <td>S609791</td>\n",
       "      <td>83</td>\n",
       "      <td>A609801</td>\n",
       "      <td>74</td>\n",
       "    </tr>\n",
       "    <tr>\n",
       "      <th>...</th>\n",
       "      <td>...</td>\n",
       "      <td>...</td>\n",
       "      <td>...</td>\n",
       "      <td>...</td>\n",
       "      <td>...</td>\n",
       "    </tr>\n",
       "    <tr>\n",
       "      <th>95</th>\n",
       "      <td>96</td>\n",
       "      <td>S285617</td>\n",
       "      <td>77</td>\n",
       "      <td>A285629</td>\n",
       "      <td>87</td>\n",
       "    </tr>\n",
       "    <tr>\n",
       "      <th>96</th>\n",
       "      <td>97</td>\n",
       "      <td>S324135</td>\n",
       "      <td>85</td>\n",
       "      <td>A324151</td>\n",
       "      <td>82</td>\n",
       "    </tr>\n",
       "    <tr>\n",
       "      <th>97</th>\n",
       "      <td>98</td>\n",
       "      <td>S292076</td>\n",
       "      <td>83</td>\n",
       "      <td>A292091</td>\n",
       "      <td>88</td>\n",
       "    </tr>\n",
       "    <tr>\n",
       "      <th>98</th>\n",
       "      <td>99</td>\n",
       "      <td>S936528</td>\n",
       "      <td>82</td>\n",
       "      <td>A936566</td>\n",
       "      <td>91</td>\n",
       "    </tr>\n",
       "    <tr>\n",
       "      <th>99</th>\n",
       "      <td>100</td>\n",
       "      <td>S489010</td>\n",
       "      <td>100</td>\n",
       "      <td>A489031</td>\n",
       "      <td>95</td>\n",
       "    </tr>\n",
       "  </tbody>\n",
       "</table>\n",
       "<p>100 rows × 5 columns</p>\n",
       "</div>"
      ],
      "text/plain": [
       "    Sr No S_Cust_id  Samsung_Score Apple_Cust_id  Apple_Score\n",
       "0       1   S336499             94       A336525           82\n",
       "1       2    S73004             99        A73011           83\n",
       "2       3    S79537             74        A79538           88\n",
       "3       4   S769168             74       A769222           80\n",
       "4       5   S609791             83       A609801           74\n",
       "..    ...       ...            ...           ...          ...\n",
       "95     96   S285617             77       A285629           87\n",
       "96     97   S324135             85       A324151           82\n",
       "97     98   S292076             83       A292091           88\n",
       "98     99   S936528             82       A936566           91\n",
       "99    100   S489010            100       A489031           95\n",
       "\n",
       "[100 rows x 5 columns]"
      ]
     },
     "execution_count": 36,
     "metadata": {},
     "output_type": "execute_result"
    }
   ],
   "source": [
    "inp"
   ]
  },
  {
   "cell_type": "code",
   "execution_count": 37,
   "metadata": {},
   "outputs": [],
   "source": [
    "####1.The Samsung Average customer satisfaction score is minimum 75%."
   ]
  },
  {
   "cell_type": "code",
   "execution_count": 38,
   "metadata": {},
   "outputs": [],
   "source": [
    "####  NULL HYPOTHESIS:\n",
    "##Ho:The Samsung Average customer satisfaction score is less than 75.(i.e ACS<75).\n",
    "#### ALTERNATIVE HYPOTHESIS:\n",
    "##Ha:The Samsung Average customer satisfaction score is greater than or equalto 75.(i.e ACS>=75).\n",
    "####  Confidence Interval 95%,\n",
    "####  p value=0.05\n",
    "#### Performing one sample t test\n",
    "####  As p value is low, we will reject the NULL hypothesis.\n",
    "##(i.e. The Samsung Average customer satisfaction score is NOT less than 75)."
   ]
  },
  {
   "cell_type": "code",
   "execution_count": 39,
   "metadata": {},
   "outputs": [
    {
     "data": {
      "text/plain": [
       "Ttest_1sampResult(statistic=8.358287450922418, pvalue=4.0739777034636007e-13)"
      ]
     },
     "execution_count": 39,
     "metadata": {},
     "output_type": "execute_result"
    }
   ],
   "source": [
    "stats.ttest_1samp(inp.Samsung_Score,popmean=75)"
   ]
  },
  {
   "cell_type": "code",
   "execution_count": 40,
   "metadata": {},
   "outputs": [],
   "source": [
    "#### As p value is low, we will reject the null hypothesis."
   ]
  },
  {
   "cell_type": "code",
   "execution_count": 41,
   "metadata": {},
   "outputs": [
    {
     "data": {
      "text/plain": [
       "84.9"
      ]
     },
     "execution_count": 41,
     "metadata": {},
     "output_type": "execute_result"
    }
   ],
   "source": [
    "### This is also evident if we calculate the mean of the Samsung Score.\n",
    "inp.Samsung_Score.mean()"
   ]
  },
  {
   "cell_type": "code",
   "execution_count": 42,
   "metadata": {},
   "outputs": [],
   "source": [
    "####2.The overall average satisfaction score of Samsung is same as Apple. \n",
    "####There is no significant difference in the satisfaction scores."
   ]
  },
  {
   "cell_type": "code",
   "execution_count": 43,
   "metadata": {},
   "outputs": [],
   "source": [
    "####  NULL HYPOTHESIS\n",
    "##Ho:-The overall average satisfaction score of Samsung is same as Apple(i.e. )msams!=mappl\n",
    "#### ALTERNATIVE HYPOTHESIS \n",
    "##Ha:-msams=mappl\n",
    "####  CI=95%,\n",
    "####  p value=0.05\n",
    "#### Performing F Test(ANOVA)\n",
    "#### BUSINESS CONCLUSION:\n",
    "## As p value is low, we will reject the null hypothesis.\n",
    "## But if CI is 99% than we have to accept the null hypothesis i.e we can reject null hypothesis at 95% CI but not at 99% CI"
   ]
  },
  {
   "cell_type": "code",
   "execution_count": 18,
   "metadata": {},
   "outputs": [
    {
     "data": {
      "text/plain": [
       "F_onewayResult(statistic=3.6344737949891592, pvalue=0.05804261444411817)"
      ]
     },
     "execution_count": 18,
     "metadata": {},
     "output_type": "execute_result"
    }
   ],
   "source": [
    "stats.f_oneway(inp.Samsung_Score,inp.Apple_Score)"
   ]
  },
  {
   "cell_type": "code",
   "execution_count": null,
   "metadata": {},
   "outputs": [],
   "source": [
    "#### As p value is low, we will reject the null hypothesis.\n",
    "#### But if CI is 99% than we have to accept the null hypothesis i.e we can reject null hypothesis at 95% CI but not at 99% CI"
   ]
  },
  {
   "cell_type": "code",
   "execution_count": null,
   "metadata": {},
   "outputs": [],
   "source": []
  }
 ],
 "metadata": {
  "kernelspec": {
   "display_name": "Python 3",
   "language": "python",
   "name": "python3"
  },
  "language_info": {
   "codemirror_mode": {
    "name": "ipython",
    "version": 3
   },
   "file_extension": ".py",
   "mimetype": "text/x-python",
   "name": "python",
   "nbconvert_exporter": "python",
   "pygments_lexer": "ipython3",
   "version": "3.7.4"
  }
 },
 "nbformat": 4,
 "nbformat_minor": 2
}
