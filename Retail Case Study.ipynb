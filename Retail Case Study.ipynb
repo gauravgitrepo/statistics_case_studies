{
 "cells": [
  {
   "cell_type": "code",
   "execution_count": 1,
   "metadata": {},
   "outputs": [],
   "source": [
    "import pandas as pd\n",
    "import numpy as np\n",
    "from matplotlib import pyplot as plt\n",
    "from datetime import datetime as dt"
   ]
  },
  {
   "cell_type": "code",
   "execution_count": 2,
   "metadata": {},
   "outputs": [],
   "source": [
    "##1. Merge the datasets Customers, Product Hierarchy and Transactions as Customer_Final. Ensure to\n",
    "##keep all customers who have done transactions with us and select the join type accordingly\n",
    "\n",
    "Inp1=pd.read_csv(r'C:\\Users\\goura\\Downloads\\Compressed\\Gaurav_data_science\\Basic Python Stats Modelling\\Assignments\\Case Studies\\Case Study Retail\\3. Pandas Case Study 1 - Retail Case Study\\Customer.csv')\n",
    "Inp2=pd.read_csv(r'C:\\Users\\goura\\Downloads\\Compressed\\Gaurav_data_science\\Basic Python Stats Modelling\\Assignments\\Case Studies\\Case Study Retail\\3. Pandas Case Study 1 - Retail Case Study\\Transactions.csv')\n",
    "Inp3=pd.read_csv(r'C:\\Users\\goura\\Downloads\\Compressed\\Gaurav_data_science\\Basic Python Stats Modelling\\Assignments\\Case Studies\\Case Study Retail\\3. Pandas Case Study 1 - Retail Case Study\\prod_cat_info.csv')"
   ]
  },
  {
   "cell_type": "code",
   "execution_count": 3,
   "metadata": {},
   "outputs": [
    {
     "data": {
      "text/html": [
       "<div>\n",
       "<style scoped>\n",
       "    .dataframe tbody tr th:only-of-type {\n",
       "        vertical-align: middle;\n",
       "    }\n",
       "\n",
       "    .dataframe tbody tr th {\n",
       "        vertical-align: top;\n",
       "    }\n",
       "\n",
       "    .dataframe thead th {\n",
       "        text-align: right;\n",
       "    }\n",
       "</style>\n",
       "<table border=\"1\" class=\"dataframe\">\n",
       "  <thead>\n",
       "    <tr style=\"text-align: right;\">\n",
       "      <th></th>\n",
       "      <th>customer_Id</th>\n",
       "      <th>DOB</th>\n",
       "      <th>Gender</th>\n",
       "      <th>city_code</th>\n",
       "    </tr>\n",
       "  </thead>\n",
       "  <tbody>\n",
       "    <tr>\n",
       "      <th>0</th>\n",
       "      <td>268408</td>\n",
       "      <td>02-01-1970</td>\n",
       "      <td>M</td>\n",
       "      <td>4.0</td>\n",
       "    </tr>\n",
       "    <tr>\n",
       "      <th>1</th>\n",
       "      <td>269696</td>\n",
       "      <td>07-01-1970</td>\n",
       "      <td>F</td>\n",
       "      <td>8.0</td>\n",
       "    </tr>\n",
       "  </tbody>\n",
       "</table>\n",
       "</div>"
      ],
      "text/plain": [
       "   customer_Id         DOB Gender  city_code\n",
       "0       268408  02-01-1970      M        4.0\n",
       "1       269696  07-01-1970      F        8.0"
      ]
     },
     "execution_count": 3,
     "metadata": {},
     "output_type": "execute_result"
    }
   ],
   "source": [
    "Inp1.head(2)"
   ]
  },
  {
   "cell_type": "code",
   "execution_count": 4,
   "metadata": {},
   "outputs": [
    {
     "name": "stdout",
     "output_type": "stream",
     "text": [
      "<class 'pandas.core.frame.DataFrame'>\n",
      "RangeIndex: 5647 entries, 0 to 5646\n",
      "Data columns (total 4 columns):\n",
      "customer_Id    5647 non-null int64\n",
      "DOB            5647 non-null object\n",
      "Gender         5645 non-null object\n",
      "city_code      5645 non-null float64\n",
      "dtypes: float64(1), int64(1), object(2)\n",
      "memory usage: 176.6+ KB\n"
     ]
    }
   ],
   "source": [
    "Inp1.info()"
   ]
  },
  {
   "cell_type": "code",
   "execution_count": 5,
   "metadata": {},
   "outputs": [
    {
     "data": {
      "text/plain": [
       "5647"
      ]
     },
     "execution_count": 5,
     "metadata": {},
     "output_type": "execute_result"
    }
   ],
   "source": [
    "len(Inp1.customer_Id.unique())"
   ]
  },
  {
   "cell_type": "code",
   "execution_count": 6,
   "metadata": {},
   "outputs": [
    {
     "data": {
      "text/plain": [
       "5506"
      ]
     },
     "execution_count": 6,
     "metadata": {},
     "output_type": "execute_result"
    }
   ],
   "source": [
    "len(Inp2.cust_id.unique())"
   ]
  },
  {
   "cell_type": "code",
   "execution_count": 7,
   "metadata": {},
   "outputs": [
    {
     "data": {
      "text/html": [
       "<div>\n",
       "<style scoped>\n",
       "    .dataframe tbody tr th:only-of-type {\n",
       "        vertical-align: middle;\n",
       "    }\n",
       "\n",
       "    .dataframe tbody tr th {\n",
       "        vertical-align: top;\n",
       "    }\n",
       "\n",
       "    .dataframe thead th {\n",
       "        text-align: right;\n",
       "    }\n",
       "</style>\n",
       "<table border=\"1\" class=\"dataframe\">\n",
       "  <thead>\n",
       "    <tr style=\"text-align: right;\">\n",
       "      <th></th>\n",
       "      <th>transaction_id</th>\n",
       "      <th>cust_id</th>\n",
       "      <th>tran_date</th>\n",
       "      <th>prod_subcat_code</th>\n",
       "      <th>prod_cat_code</th>\n",
       "      <th>Qty</th>\n",
       "      <th>Rate</th>\n",
       "      <th>Tax</th>\n",
       "      <th>total_amt</th>\n",
       "      <th>Store_type</th>\n",
       "    </tr>\n",
       "  </thead>\n",
       "  <tbody>\n",
       "    <tr>\n",
       "      <th>0</th>\n",
       "      <td>80712190438</td>\n",
       "      <td>270351</td>\n",
       "      <td>28-02-2014</td>\n",
       "      <td>1</td>\n",
       "      <td>1</td>\n",
       "      <td>-5</td>\n",
       "      <td>-772</td>\n",
       "      <td>405.300</td>\n",
       "      <td>-4265.300</td>\n",
       "      <td>e-Shop</td>\n",
       "    </tr>\n",
       "    <tr>\n",
       "      <th>1</th>\n",
       "      <td>29258453508</td>\n",
       "      <td>270384</td>\n",
       "      <td>27-02-2014</td>\n",
       "      <td>5</td>\n",
       "      <td>3</td>\n",
       "      <td>-5</td>\n",
       "      <td>-1497</td>\n",
       "      <td>785.925</td>\n",
       "      <td>-8270.925</td>\n",
       "      <td>e-Shop</td>\n",
       "    </tr>\n",
       "  </tbody>\n",
       "</table>\n",
       "</div>"
      ],
      "text/plain": [
       "   transaction_id  cust_id   tran_date  prod_subcat_code  prod_cat_code  Qty  \\\n",
       "0     80712190438   270351  28-02-2014                 1              1   -5   \n",
       "1     29258453508   270384  27-02-2014                 5              3   -5   \n",
       "\n",
       "   Rate      Tax  total_amt Store_type  \n",
       "0  -772  405.300  -4265.300     e-Shop  \n",
       "1 -1497  785.925  -8270.925     e-Shop  "
      ]
     },
     "execution_count": 7,
     "metadata": {},
     "output_type": "execute_result"
    }
   ],
   "source": [
    "Inp2.head(2)"
   ]
  },
  {
   "cell_type": "code",
   "execution_count": 8,
   "metadata": {},
   "outputs": [
    {
     "name": "stdout",
     "output_type": "stream",
     "text": [
      "<class 'pandas.core.frame.DataFrame'>\n",
      "RangeIndex: 23053 entries, 0 to 23052\n",
      "Data columns (total 10 columns):\n",
      "transaction_id      23053 non-null int64\n",
      "cust_id             23053 non-null int64\n",
      "tran_date           23053 non-null object\n",
      "prod_subcat_code    23053 non-null int64\n",
      "prod_cat_code       23053 non-null int64\n",
      "Qty                 23053 non-null int64\n",
      "Rate                23053 non-null int64\n",
      "Tax                 23053 non-null float64\n",
      "total_amt           23053 non-null float64\n",
      "Store_type          23053 non-null object\n",
      "dtypes: float64(2), int64(6), object(2)\n",
      "memory usage: 1.8+ MB\n"
     ]
    }
   ],
   "source": [
    "Inp2.info()"
   ]
  },
  {
   "cell_type": "code",
   "execution_count": 9,
   "metadata": {},
   "outputs": [
    {
     "data": {
      "text/html": [
       "<div>\n",
       "<style scoped>\n",
       "    .dataframe tbody tr th:only-of-type {\n",
       "        vertical-align: middle;\n",
       "    }\n",
       "\n",
       "    .dataframe tbody tr th {\n",
       "        vertical-align: top;\n",
       "    }\n",
       "\n",
       "    .dataframe thead th {\n",
       "        text-align: right;\n",
       "    }\n",
       "</style>\n",
       "<table border=\"1\" class=\"dataframe\">\n",
       "  <thead>\n",
       "    <tr style=\"text-align: right;\">\n",
       "      <th></th>\n",
       "      <th>prod_cat_code</th>\n",
       "      <th>prod_cat</th>\n",
       "      <th>prod_sub_cat_code</th>\n",
       "      <th>prod_subcat</th>\n",
       "    </tr>\n",
       "  </thead>\n",
       "  <tbody>\n",
       "    <tr>\n",
       "      <th>0</th>\n",
       "      <td>1</td>\n",
       "      <td>Clothing</td>\n",
       "      <td>4</td>\n",
       "      <td>Mens</td>\n",
       "    </tr>\n",
       "    <tr>\n",
       "      <th>1</th>\n",
       "      <td>1</td>\n",
       "      <td>Clothing</td>\n",
       "      <td>1</td>\n",
       "      <td>Women</td>\n",
       "    </tr>\n",
       "    <tr>\n",
       "      <th>2</th>\n",
       "      <td>1</td>\n",
       "      <td>Clothing</td>\n",
       "      <td>3</td>\n",
       "      <td>Kids</td>\n",
       "    </tr>\n",
       "  </tbody>\n",
       "</table>\n",
       "</div>"
      ],
      "text/plain": [
       "   prod_cat_code  prod_cat  prod_sub_cat_code prod_subcat\n",
       "0              1  Clothing                  4        Mens\n",
       "1              1  Clothing                  1       Women\n",
       "2              1  Clothing                  3        Kids"
      ]
     },
     "execution_count": 9,
     "metadata": {},
     "output_type": "execute_result"
    }
   ],
   "source": [
    "Inp3.head(3)"
   ]
  },
  {
   "cell_type": "code",
   "execution_count": 10,
   "metadata": {},
   "outputs": [
    {
     "name": "stdout",
     "output_type": "stream",
     "text": [
      "<class 'pandas.core.frame.DataFrame'>\n",
      "RangeIndex: 23 entries, 0 to 22\n",
      "Data columns (total 4 columns):\n",
      "prod_cat_code        23 non-null int64\n",
      "prod_cat             23 non-null object\n",
      "prod_sub_cat_code    23 non-null int64\n",
      "prod_subcat          23 non-null object\n",
      "dtypes: int64(2), object(2)\n",
      "memory usage: 864.0+ bytes\n"
     ]
    }
   ],
   "source": [
    "Inp3.info()"
   ]
  },
  {
   "cell_type": "code",
   "execution_count": 11,
   "metadata": {},
   "outputs": [],
   "source": [
    "df_merge=pd.merge(Inp2,Inp3,on='prod_cat_code')"
   ]
  },
  {
   "cell_type": "code",
   "execution_count": 12,
   "metadata": {},
   "outputs": [
    {
     "data": {
      "text/html": [
       "<div>\n",
       "<style scoped>\n",
       "    .dataframe tbody tr th:only-of-type {\n",
       "        vertical-align: middle;\n",
       "    }\n",
       "\n",
       "    .dataframe tbody tr th {\n",
       "        vertical-align: top;\n",
       "    }\n",
       "\n",
       "    .dataframe thead th {\n",
       "        text-align: right;\n",
       "    }\n",
       "</style>\n",
       "<table border=\"1\" class=\"dataframe\">\n",
       "  <thead>\n",
       "    <tr style=\"text-align: right;\">\n",
       "      <th></th>\n",
       "      <th>transaction_id</th>\n",
       "      <th>cust_id</th>\n",
       "      <th>tran_date</th>\n",
       "      <th>prod_subcat_code</th>\n",
       "      <th>prod_cat_code</th>\n",
       "      <th>Qty</th>\n",
       "      <th>Rate</th>\n",
       "      <th>Tax</th>\n",
       "      <th>total_amt</th>\n",
       "      <th>Store_type</th>\n",
       "      <th>prod_cat</th>\n",
       "      <th>prod_sub_cat_code</th>\n",
       "      <th>prod_subcat</th>\n",
       "    </tr>\n",
       "  </thead>\n",
       "  <tbody>\n",
       "    <tr>\n",
       "      <th>0</th>\n",
       "      <td>80712190438</td>\n",
       "      <td>270351</td>\n",
       "      <td>28-02-2014</td>\n",
       "      <td>1</td>\n",
       "      <td>1</td>\n",
       "      <td>-5</td>\n",
       "      <td>-772</td>\n",
       "      <td>405.3</td>\n",
       "      <td>-4265.3</td>\n",
       "      <td>e-Shop</td>\n",
       "      <td>Clothing</td>\n",
       "      <td>4</td>\n",
       "      <td>Mens</td>\n",
       "    </tr>\n",
       "    <tr>\n",
       "      <th>1</th>\n",
       "      <td>80712190438</td>\n",
       "      <td>270351</td>\n",
       "      <td>28-02-2014</td>\n",
       "      <td>1</td>\n",
       "      <td>1</td>\n",
       "      <td>-5</td>\n",
       "      <td>-772</td>\n",
       "      <td>405.3</td>\n",
       "      <td>-4265.3</td>\n",
       "      <td>e-Shop</td>\n",
       "      <td>Clothing</td>\n",
       "      <td>1</td>\n",
       "      <td>Women</td>\n",
       "    </tr>\n",
       "  </tbody>\n",
       "</table>\n",
       "</div>"
      ],
      "text/plain": [
       "   transaction_id  cust_id   tran_date  prod_subcat_code  prod_cat_code  Qty  \\\n",
       "0     80712190438   270351  28-02-2014                 1              1   -5   \n",
       "1     80712190438   270351  28-02-2014                 1              1   -5   \n",
       "\n",
       "   Rate    Tax  total_amt Store_type  prod_cat  prod_sub_cat_code prod_subcat  \n",
       "0  -772  405.3    -4265.3     e-Shop  Clothing                  4        Mens  \n",
       "1  -772  405.3    -4265.3     e-Shop  Clothing                  1       Women  "
      ]
     },
     "execution_count": 12,
     "metadata": {},
     "output_type": "execute_result"
    }
   ],
   "source": [
    "df_merge.head(2)"
   ]
  },
  {
   "cell_type": "code",
   "execution_count": 13,
   "metadata": {},
   "outputs": [
    {
     "name": "stdout",
     "output_type": "stream",
     "text": [
      "<class 'pandas.core.frame.DataFrame'>\n",
      "Int64Index: 99293 entries, 0 to 99292\n",
      "Data columns (total 13 columns):\n",
      "transaction_id       99293 non-null int64\n",
      "cust_id              99293 non-null int64\n",
      "tran_date            99293 non-null object\n",
      "prod_subcat_code     99293 non-null int64\n",
      "prod_cat_code        99293 non-null int64\n",
      "Qty                  99293 non-null int64\n",
      "Rate                 99293 non-null int64\n",
      "Tax                  99293 non-null float64\n",
      "total_amt            99293 non-null float64\n",
      "Store_type           99293 non-null object\n",
      "prod_cat             99293 non-null object\n",
      "prod_sub_cat_code    99293 non-null int64\n",
      "prod_subcat          99293 non-null object\n",
      "dtypes: float64(2), int64(7), object(4)\n",
      "memory usage: 10.6+ MB\n"
     ]
    }
   ],
   "source": [
    "df_merge.info()"
   ]
  },
  {
   "cell_type": "code",
   "execution_count": 14,
   "metadata": {},
   "outputs": [],
   "source": [
    "## when we merge two data frame using outer join than there are chances that null(NaN) value appear after join and\n",
    "## int64 is not able to store NaN values hence the new data frame has float values.\n",
    "\n",
    "## Eg:-If we perform merge operation(outer join) on Inp1 and df_merge on customer_id/cust_id without changing the dtype of \n",
    "## cust_id that after join dtype of cust_id will be float although earlier it was int64.\n",
    "## Int64 can store NaN values.\n",
    "\n",
    "df_merge.cust_id=df_merge.cust_id.astype('Int64')"
   ]
  },
  {
   "cell_type": "code",
   "execution_count": 15,
   "metadata": {},
   "outputs": [],
   "source": [
    "Customer_Final=pd.merge(Inp1,df_merge,how='outer',left_on='customer_Id',right_on='cust_id')"
   ]
  },
  {
   "cell_type": "code",
   "execution_count": 16,
   "metadata": {},
   "outputs": [
    {
     "data": {
      "text/html": [
       "<div>\n",
       "<style scoped>\n",
       "    .dataframe tbody tr th:only-of-type {\n",
       "        vertical-align: middle;\n",
       "    }\n",
       "\n",
       "    .dataframe tbody tr th {\n",
       "        vertical-align: top;\n",
       "    }\n",
       "\n",
       "    .dataframe thead th {\n",
       "        text-align: right;\n",
       "    }\n",
       "</style>\n",
       "<table border=\"1\" class=\"dataframe\">\n",
       "  <thead>\n",
       "    <tr style=\"text-align: right;\">\n",
       "      <th></th>\n",
       "      <th>customer_Id</th>\n",
       "      <th>DOB</th>\n",
       "      <th>Gender</th>\n",
       "      <th>city_code</th>\n",
       "      <th>transaction_id</th>\n",
       "      <th>cust_id</th>\n",
       "      <th>tran_date</th>\n",
       "      <th>prod_subcat_code</th>\n",
       "      <th>prod_cat_code</th>\n",
       "      <th>Qty</th>\n",
       "      <th>Rate</th>\n",
       "      <th>Tax</th>\n",
       "      <th>total_amt</th>\n",
       "      <th>Store_type</th>\n",
       "      <th>prod_cat</th>\n",
       "      <th>prod_sub_cat_code</th>\n",
       "      <th>prod_subcat</th>\n",
       "    </tr>\n",
       "  </thead>\n",
       "  <tbody>\n",
       "    <tr>\n",
       "      <th>0</th>\n",
       "      <td>268408</td>\n",
       "      <td>02-01-1970</td>\n",
       "      <td>M</td>\n",
       "      <td>4.0</td>\n",
       "      <td>6.331455e+10</td>\n",
       "      <td>268408</td>\n",
       "      <td>26-04-2012</td>\n",
       "      <td>1.0</td>\n",
       "      <td>1.0</td>\n",
       "      <td>1.0</td>\n",
       "      <td>806.0</td>\n",
       "      <td>84.63</td>\n",
       "      <td>890.63</td>\n",
       "      <td>Flagship store</td>\n",
       "      <td>Clothing</td>\n",
       "      <td>4.0</td>\n",
       "      <td>Mens</td>\n",
       "    </tr>\n",
       "    <tr>\n",
       "      <th>1</th>\n",
       "      <td>268408</td>\n",
       "      <td>02-01-1970</td>\n",
       "      <td>M</td>\n",
       "      <td>4.0</td>\n",
       "      <td>6.331455e+10</td>\n",
       "      <td>268408</td>\n",
       "      <td>26-04-2012</td>\n",
       "      <td>1.0</td>\n",
       "      <td>1.0</td>\n",
       "      <td>1.0</td>\n",
       "      <td>806.0</td>\n",
       "      <td>84.63</td>\n",
       "      <td>890.63</td>\n",
       "      <td>Flagship store</td>\n",
       "      <td>Clothing</td>\n",
       "      <td>1.0</td>\n",
       "      <td>Women</td>\n",
       "    </tr>\n",
       "  </tbody>\n",
       "</table>\n",
       "</div>"
      ],
      "text/plain": [
       "   customer_Id         DOB Gender  city_code  transaction_id  cust_id  \\\n",
       "0       268408  02-01-1970      M        4.0    6.331455e+10   268408   \n",
       "1       268408  02-01-1970      M        4.0    6.331455e+10   268408   \n",
       "\n",
       "    tran_date  prod_subcat_code  prod_cat_code  Qty   Rate    Tax  total_amt  \\\n",
       "0  26-04-2012               1.0            1.0  1.0  806.0  84.63     890.63   \n",
       "1  26-04-2012               1.0            1.0  1.0  806.0  84.63     890.63   \n",
       "\n",
       "       Store_type  prod_cat  prod_sub_cat_code prod_subcat  \n",
       "0  Flagship store  Clothing                4.0        Mens  \n",
       "1  Flagship store  Clothing                1.0       Women  "
      ]
     },
     "execution_count": 16,
     "metadata": {},
     "output_type": "execute_result"
    }
   ],
   "source": [
    "Customer_Final.head(2)"
   ]
  },
  {
   "cell_type": "code",
   "execution_count": 17,
   "metadata": {},
   "outputs": [],
   "source": [
    "## why cust_id is float when in original data set it is integer"
   ]
  },
  {
   "cell_type": "code",
   "execution_count": 18,
   "metadata": {},
   "outputs": [
    {
     "name": "stdout",
     "output_type": "stream",
     "text": [
      "<class 'pandas.core.frame.DataFrame'>\n",
      "Int64Index: 99434 entries, 0 to 99433\n",
      "Data columns (total 17 columns):\n",
      "customer_Id          99434 non-null int64\n",
      "DOB                  99434 non-null object\n",
      "Gender               99394 non-null object\n",
      "city_code            99398 non-null float64\n",
      "transaction_id       99293 non-null float64\n",
      "cust_id              99293 non-null Int64\n",
      "tran_date            99293 non-null object\n",
      "prod_subcat_code     99293 non-null float64\n",
      "prod_cat_code        99293 non-null float64\n",
      "Qty                  99293 non-null float64\n",
      "Rate                 99293 non-null float64\n",
      "Tax                  99293 non-null float64\n",
      "total_amt            99293 non-null float64\n",
      "Store_type           99293 non-null object\n",
      "prod_cat             99293 non-null object\n",
      "prod_sub_cat_code    99293 non-null float64\n",
      "prod_subcat          99293 non-null object\n",
      "dtypes: Int64(1), float64(9), int64(1), object(6)\n",
      "memory usage: 13.8+ MB\n"
     ]
    }
   ],
   "source": [
    "Customer_Final.info()"
   ]
  },
  {
   "cell_type": "code",
   "execution_count": 19,
   "metadata": {},
   "outputs": [],
   "source": [
    "##2. Prepare a summary report for the merged data set.\n",
    "##a. Get the column names and their corresponding data types"
   ]
  },
  {
   "cell_type": "code",
   "execution_count": 20,
   "metadata": {},
   "outputs": [
    {
     "name": "stdout",
     "output_type": "stream",
     "text": [
      "<class 'pandas.core.frame.DataFrame'>\n",
      "Int64Index: 99434 entries, 0 to 99433\n",
      "Data columns (total 17 columns):\n",
      "customer_Id          99434 non-null int64\n",
      "DOB                  99434 non-null object\n",
      "Gender               99394 non-null object\n",
      "city_code            99398 non-null float64\n",
      "transaction_id       99293 non-null float64\n",
      "cust_id              99293 non-null Int64\n",
      "tran_date            99293 non-null object\n",
      "prod_subcat_code     99293 non-null float64\n",
      "prod_cat_code        99293 non-null float64\n",
      "Qty                  99293 non-null float64\n",
      "Rate                 99293 non-null float64\n",
      "Tax                  99293 non-null float64\n",
      "total_amt            99293 non-null float64\n",
      "Store_type           99293 non-null object\n",
      "prod_cat             99293 non-null object\n",
      "prod_sub_cat_code    99293 non-null float64\n",
      "prod_subcat          99293 non-null object\n",
      "dtypes: Int64(1), float64(9), int64(1), object(6)\n",
      "memory usage: 13.8+ MB\n"
     ]
    }
   ],
   "source": [
    "Customer_Final.info()"
   ]
  },
  {
   "cell_type": "code",
   "execution_count": 21,
   "metadata": {},
   "outputs": [
    {
     "data": {
      "text/html": [
       "<div>\n",
       "<style scoped>\n",
       "    .dataframe tbody tr th:only-of-type {\n",
       "        vertical-align: middle;\n",
       "    }\n",
       "\n",
       "    .dataframe tbody tr th {\n",
       "        vertical-align: top;\n",
       "    }\n",
       "\n",
       "    .dataframe thead th {\n",
       "        text-align: right;\n",
       "    }\n",
       "</style>\n",
       "<table border=\"1\" class=\"dataframe\">\n",
       "  <thead>\n",
       "    <tr style=\"text-align: right;\">\n",
       "      <th></th>\n",
       "      <th>customer_Id</th>\n",
       "      <th>DOB</th>\n",
       "      <th>Gender</th>\n",
       "      <th>city_code</th>\n",
       "      <th>transaction_id</th>\n",
       "      <th>cust_id</th>\n",
       "      <th>tran_date</th>\n",
       "      <th>prod_subcat_code</th>\n",
       "      <th>prod_cat_code</th>\n",
       "      <th>Qty</th>\n",
       "      <th>Rate</th>\n",
       "      <th>Tax</th>\n",
       "      <th>total_amt</th>\n",
       "      <th>Store_type</th>\n",
       "      <th>prod_cat</th>\n",
       "      <th>prod_sub_cat_code</th>\n",
       "      <th>prod_subcat</th>\n",
       "    </tr>\n",
       "  </thead>\n",
       "  <tbody>\n",
       "    <tr>\n",
       "      <th>0</th>\n",
       "      <td>268408</td>\n",
       "      <td>02-01-1970</td>\n",
       "      <td>M</td>\n",
       "      <td>4.0</td>\n",
       "      <td>6.331455e+10</td>\n",
       "      <td>268408</td>\n",
       "      <td>26-04-2012</td>\n",
       "      <td>1.0</td>\n",
       "      <td>1.0</td>\n",
       "      <td>1.0</td>\n",
       "      <td>806.0</td>\n",
       "      <td>84.63</td>\n",
       "      <td>890.63</td>\n",
       "      <td>Flagship store</td>\n",
       "      <td>Clothing</td>\n",
       "      <td>4.0</td>\n",
       "      <td>Mens</td>\n",
       "    </tr>\n",
       "    <tr>\n",
       "      <th>1</th>\n",
       "      <td>268408</td>\n",
       "      <td>02-01-1970</td>\n",
       "      <td>M</td>\n",
       "      <td>4.0</td>\n",
       "      <td>6.331455e+10</td>\n",
       "      <td>268408</td>\n",
       "      <td>26-04-2012</td>\n",
       "      <td>1.0</td>\n",
       "      <td>1.0</td>\n",
       "      <td>1.0</td>\n",
       "      <td>806.0</td>\n",
       "      <td>84.63</td>\n",
       "      <td>890.63</td>\n",
       "      <td>Flagship store</td>\n",
       "      <td>Clothing</td>\n",
       "      <td>1.0</td>\n",
       "      <td>Women</td>\n",
       "    </tr>\n",
       "    <tr>\n",
       "      <th>2</th>\n",
       "      <td>268408</td>\n",
       "      <td>02-01-1970</td>\n",
       "      <td>M</td>\n",
       "      <td>4.0</td>\n",
       "      <td>6.331455e+10</td>\n",
       "      <td>268408</td>\n",
       "      <td>26-04-2012</td>\n",
       "      <td>1.0</td>\n",
       "      <td>1.0</td>\n",
       "      <td>1.0</td>\n",
       "      <td>806.0</td>\n",
       "      <td>84.63</td>\n",
       "      <td>890.63</td>\n",
       "      <td>Flagship store</td>\n",
       "      <td>Clothing</td>\n",
       "      <td>3.0</td>\n",
       "      <td>Kids</td>\n",
       "    </tr>\n",
       "    <tr>\n",
       "      <th>3</th>\n",
       "      <td>268408</td>\n",
       "      <td>02-01-1970</td>\n",
       "      <td>M</td>\n",
       "      <td>4.0</td>\n",
       "      <td>5.690286e+10</td>\n",
       "      <td>268408</td>\n",
       "      <td>30-01-2013</td>\n",
       "      <td>9.0</td>\n",
       "      <td>3.0</td>\n",
       "      <td>5.0</td>\n",
       "      <td>868.0</td>\n",
       "      <td>455.70</td>\n",
       "      <td>4795.70</td>\n",
       "      <td>e-Shop</td>\n",
       "      <td>Electronics</td>\n",
       "      <td>4.0</td>\n",
       "      <td>Mobiles</td>\n",
       "    </tr>\n",
       "    <tr>\n",
       "      <th>4</th>\n",
       "      <td>268408</td>\n",
       "      <td>02-01-1970</td>\n",
       "      <td>M</td>\n",
       "      <td>4.0</td>\n",
       "      <td>5.690286e+10</td>\n",
       "      <td>268408</td>\n",
       "      <td>30-01-2013</td>\n",
       "      <td>9.0</td>\n",
       "      <td>3.0</td>\n",
       "      <td>5.0</td>\n",
       "      <td>868.0</td>\n",
       "      <td>455.70</td>\n",
       "      <td>4795.70</td>\n",
       "      <td>e-Shop</td>\n",
       "      <td>Electronics</td>\n",
       "      <td>5.0</td>\n",
       "      <td>Computers</td>\n",
       "    </tr>\n",
       "    <tr>\n",
       "      <th>5</th>\n",
       "      <td>268408</td>\n",
       "      <td>02-01-1970</td>\n",
       "      <td>M</td>\n",
       "      <td>4.0</td>\n",
       "      <td>5.690286e+10</td>\n",
       "      <td>268408</td>\n",
       "      <td>30-01-2013</td>\n",
       "      <td>9.0</td>\n",
       "      <td>3.0</td>\n",
       "      <td>5.0</td>\n",
       "      <td>868.0</td>\n",
       "      <td>455.70</td>\n",
       "      <td>4795.70</td>\n",
       "      <td>e-Shop</td>\n",
       "      <td>Electronics</td>\n",
       "      <td>8.0</td>\n",
       "      <td>Personal Appliances</td>\n",
       "    </tr>\n",
       "    <tr>\n",
       "      <th>6</th>\n",
       "      <td>268408</td>\n",
       "      <td>02-01-1970</td>\n",
       "      <td>M</td>\n",
       "      <td>4.0</td>\n",
       "      <td>5.690286e+10</td>\n",
       "      <td>268408</td>\n",
       "      <td>30-01-2013</td>\n",
       "      <td>9.0</td>\n",
       "      <td>3.0</td>\n",
       "      <td>5.0</td>\n",
       "      <td>868.0</td>\n",
       "      <td>455.70</td>\n",
       "      <td>4795.70</td>\n",
       "      <td>e-Shop</td>\n",
       "      <td>Electronics</td>\n",
       "      <td>9.0</td>\n",
       "      <td>Cameras</td>\n",
       "    </tr>\n",
       "    <tr>\n",
       "      <th>7</th>\n",
       "      <td>268408</td>\n",
       "      <td>02-01-1970</td>\n",
       "      <td>M</td>\n",
       "      <td>4.0</td>\n",
       "      <td>5.690286e+10</td>\n",
       "      <td>268408</td>\n",
       "      <td>30-01-2013</td>\n",
       "      <td>9.0</td>\n",
       "      <td>3.0</td>\n",
       "      <td>5.0</td>\n",
       "      <td>868.0</td>\n",
       "      <td>455.70</td>\n",
       "      <td>4795.70</td>\n",
       "      <td>e-Shop</td>\n",
       "      <td>Electronics</td>\n",
       "      <td>10.0</td>\n",
       "      <td>Audio and video</td>\n",
       "    </tr>\n",
       "    <tr>\n",
       "      <th>8</th>\n",
       "      <td>268408</td>\n",
       "      <td>02-01-1970</td>\n",
       "      <td>M</td>\n",
       "      <td>4.0</td>\n",
       "      <td>1.951606e+10</td>\n",
       "      <td>268408</td>\n",
       "      <td>7/9/2012</td>\n",
       "      <td>10.0</td>\n",
       "      <td>3.0</td>\n",
       "      <td>4.0</td>\n",
       "      <td>650.0</td>\n",
       "      <td>273.00</td>\n",
       "      <td>2873.00</td>\n",
       "      <td>e-Shop</td>\n",
       "      <td>Electronics</td>\n",
       "      <td>4.0</td>\n",
       "      <td>Mobiles</td>\n",
       "    </tr>\n",
       "    <tr>\n",
       "      <th>9</th>\n",
       "      <td>268408</td>\n",
       "      <td>02-01-1970</td>\n",
       "      <td>M</td>\n",
       "      <td>4.0</td>\n",
       "      <td>1.951606e+10</td>\n",
       "      <td>268408</td>\n",
       "      <td>7/9/2012</td>\n",
       "      <td>10.0</td>\n",
       "      <td>3.0</td>\n",
       "      <td>4.0</td>\n",
       "      <td>650.0</td>\n",
       "      <td>273.00</td>\n",
       "      <td>2873.00</td>\n",
       "      <td>e-Shop</td>\n",
       "      <td>Electronics</td>\n",
       "      <td>5.0</td>\n",
       "      <td>Computers</td>\n",
       "    </tr>\n",
       "  </tbody>\n",
       "</table>\n",
       "</div>"
      ],
      "text/plain": [
       "   customer_Id         DOB Gender  city_code  transaction_id  cust_id  \\\n",
       "0       268408  02-01-1970      M        4.0    6.331455e+10   268408   \n",
       "1       268408  02-01-1970      M        4.0    6.331455e+10   268408   \n",
       "2       268408  02-01-1970      M        4.0    6.331455e+10   268408   \n",
       "3       268408  02-01-1970      M        4.0    5.690286e+10   268408   \n",
       "4       268408  02-01-1970      M        4.0    5.690286e+10   268408   \n",
       "5       268408  02-01-1970      M        4.0    5.690286e+10   268408   \n",
       "6       268408  02-01-1970      M        4.0    5.690286e+10   268408   \n",
       "7       268408  02-01-1970      M        4.0    5.690286e+10   268408   \n",
       "8       268408  02-01-1970      M        4.0    1.951606e+10   268408   \n",
       "9       268408  02-01-1970      M        4.0    1.951606e+10   268408   \n",
       "\n",
       "    tran_date  prod_subcat_code  prod_cat_code  Qty   Rate     Tax  total_amt  \\\n",
       "0  26-04-2012               1.0            1.0  1.0  806.0   84.63     890.63   \n",
       "1  26-04-2012               1.0            1.0  1.0  806.0   84.63     890.63   \n",
       "2  26-04-2012               1.0            1.0  1.0  806.0   84.63     890.63   \n",
       "3  30-01-2013               9.0            3.0  5.0  868.0  455.70    4795.70   \n",
       "4  30-01-2013               9.0            3.0  5.0  868.0  455.70    4795.70   \n",
       "5  30-01-2013               9.0            3.0  5.0  868.0  455.70    4795.70   \n",
       "6  30-01-2013               9.0            3.0  5.0  868.0  455.70    4795.70   \n",
       "7  30-01-2013               9.0            3.0  5.0  868.0  455.70    4795.70   \n",
       "8    7/9/2012              10.0            3.0  4.0  650.0  273.00    2873.00   \n",
       "9    7/9/2012              10.0            3.0  4.0  650.0  273.00    2873.00   \n",
       "\n",
       "       Store_type     prod_cat  prod_sub_cat_code          prod_subcat  \n",
       "0  Flagship store     Clothing                4.0                 Mens  \n",
       "1  Flagship store     Clothing                1.0                Women  \n",
       "2  Flagship store     Clothing                3.0                 Kids  \n",
       "3          e-Shop  Electronics                4.0              Mobiles  \n",
       "4          e-Shop  Electronics                5.0            Computers  \n",
       "5          e-Shop  Electronics                8.0  Personal Appliances  \n",
       "6          e-Shop  Electronics                9.0              Cameras  \n",
       "7          e-Shop  Electronics               10.0      Audio and video  \n",
       "8          e-Shop  Electronics                4.0              Mobiles  \n",
       "9          e-Shop  Electronics                5.0            Computers  "
      ]
     },
     "execution_count": 21,
     "metadata": {},
     "output_type": "execute_result"
    }
   ],
   "source": [
    "##b. Top/Bottom 10 observations\n",
    "\n",
    "Customer_Final.head(10)\n"
   ]
  },
  {
   "cell_type": "code",
   "execution_count": 22,
   "metadata": {},
   "outputs": [
    {
     "data": {
      "text/html": [
       "<div>\n",
       "<style scoped>\n",
       "    .dataframe tbody tr th:only-of-type {\n",
       "        vertical-align: middle;\n",
       "    }\n",
       "\n",
       "    .dataframe tbody tr th {\n",
       "        vertical-align: top;\n",
       "    }\n",
       "\n",
       "    .dataframe thead th {\n",
       "        text-align: right;\n",
       "    }\n",
       "</style>\n",
       "<table border=\"1\" class=\"dataframe\">\n",
       "  <thead>\n",
       "    <tr style=\"text-align: right;\">\n",
       "      <th></th>\n",
       "      <th>customer_Id</th>\n",
       "      <th>DOB</th>\n",
       "      <th>Gender</th>\n",
       "      <th>city_code</th>\n",
       "      <th>transaction_id</th>\n",
       "      <th>cust_id</th>\n",
       "      <th>tran_date</th>\n",
       "      <th>prod_subcat_code</th>\n",
       "      <th>prod_cat_code</th>\n",
       "      <th>Qty</th>\n",
       "      <th>Rate</th>\n",
       "      <th>Tax</th>\n",
       "      <th>total_amt</th>\n",
       "      <th>Store_type</th>\n",
       "      <th>prod_cat</th>\n",
       "      <th>prod_sub_cat_code</th>\n",
       "      <th>prod_subcat</th>\n",
       "    </tr>\n",
       "  </thead>\n",
       "  <tbody>\n",
       "    <tr>\n",
       "      <th>99424</th>\n",
       "      <td>274308</td>\n",
       "      <td>29-12-1992</td>\n",
       "      <td>F</td>\n",
       "      <td>5.0</td>\n",
       "      <td>5.816054e+10</td>\n",
       "      <td>274308</td>\n",
       "      <td>4/7/2012</td>\n",
       "      <td>12.0</td>\n",
       "      <td>5.0</td>\n",
       "      <td>5.0</td>\n",
       "      <td>588.0</td>\n",
       "      <td>308.70</td>\n",
       "      <td>3248.70</td>\n",
       "      <td>e-Shop</td>\n",
       "      <td>Books</td>\n",
       "      <td>10.0</td>\n",
       "      <td>Non-Fiction</td>\n",
       "    </tr>\n",
       "    <tr>\n",
       "      <th>99425</th>\n",
       "      <td>274308</td>\n",
       "      <td>29-12-1992</td>\n",
       "      <td>F</td>\n",
       "      <td>5.0</td>\n",
       "      <td>5.816054e+10</td>\n",
       "      <td>274308</td>\n",
       "      <td>4/7/2012</td>\n",
       "      <td>12.0</td>\n",
       "      <td>5.0</td>\n",
       "      <td>5.0</td>\n",
       "      <td>588.0</td>\n",
       "      <td>308.70</td>\n",
       "      <td>3248.70</td>\n",
       "      <td>e-Shop</td>\n",
       "      <td>Books</td>\n",
       "      <td>11.0</td>\n",
       "      <td>Children</td>\n",
       "    </tr>\n",
       "    <tr>\n",
       "      <th>99426</th>\n",
       "      <td>274308</td>\n",
       "      <td>29-12-1992</td>\n",
       "      <td>F</td>\n",
       "      <td>5.0</td>\n",
       "      <td>5.816054e+10</td>\n",
       "      <td>274308</td>\n",
       "      <td>4/7/2012</td>\n",
       "      <td>12.0</td>\n",
       "      <td>5.0</td>\n",
       "      <td>5.0</td>\n",
       "      <td>588.0</td>\n",
       "      <td>308.70</td>\n",
       "      <td>3248.70</td>\n",
       "      <td>e-Shop</td>\n",
       "      <td>Books</td>\n",
       "      <td>3.0</td>\n",
       "      <td>Comics</td>\n",
       "    </tr>\n",
       "    <tr>\n",
       "      <th>99427</th>\n",
       "      <td>274308</td>\n",
       "      <td>29-12-1992</td>\n",
       "      <td>F</td>\n",
       "      <td>5.0</td>\n",
       "      <td>5.816054e+10</td>\n",
       "      <td>274308</td>\n",
       "      <td>4/7/2012</td>\n",
       "      <td>12.0</td>\n",
       "      <td>5.0</td>\n",
       "      <td>5.0</td>\n",
       "      <td>588.0</td>\n",
       "      <td>308.70</td>\n",
       "      <td>3248.70</td>\n",
       "      <td>e-Shop</td>\n",
       "      <td>Books</td>\n",
       "      <td>6.0</td>\n",
       "      <td>DIY</td>\n",
       "    </tr>\n",
       "    <tr>\n",
       "      <th>99428</th>\n",
       "      <td>274308</td>\n",
       "      <td>29-12-1992</td>\n",
       "      <td>F</td>\n",
       "      <td>5.0</td>\n",
       "      <td>2.620869e+10</td>\n",
       "      <td>274308</td>\n",
       "      <td>22-10-2012</td>\n",
       "      <td>1.0</td>\n",
       "      <td>2.0</td>\n",
       "      <td>2.0</td>\n",
       "      <td>898.0</td>\n",
       "      <td>188.58</td>\n",
       "      <td>1984.58</td>\n",
       "      <td>MBR</td>\n",
       "      <td>Footwear</td>\n",
       "      <td>1.0</td>\n",
       "      <td>Mens</td>\n",
       "    </tr>\n",
       "    <tr>\n",
       "      <th>99429</th>\n",
       "      <td>274308</td>\n",
       "      <td>29-12-1992</td>\n",
       "      <td>F</td>\n",
       "      <td>5.0</td>\n",
       "      <td>2.620869e+10</td>\n",
       "      <td>274308</td>\n",
       "      <td>22-10-2012</td>\n",
       "      <td>1.0</td>\n",
       "      <td>2.0</td>\n",
       "      <td>2.0</td>\n",
       "      <td>898.0</td>\n",
       "      <td>188.58</td>\n",
       "      <td>1984.58</td>\n",
       "      <td>MBR</td>\n",
       "      <td>Footwear</td>\n",
       "      <td>3.0</td>\n",
       "      <td>Women</td>\n",
       "    </tr>\n",
       "    <tr>\n",
       "      <th>99430</th>\n",
       "      <td>274308</td>\n",
       "      <td>29-12-1992</td>\n",
       "      <td>F</td>\n",
       "      <td>5.0</td>\n",
       "      <td>2.620869e+10</td>\n",
       "      <td>274308</td>\n",
       "      <td>22-10-2012</td>\n",
       "      <td>1.0</td>\n",
       "      <td>2.0</td>\n",
       "      <td>2.0</td>\n",
       "      <td>898.0</td>\n",
       "      <td>188.58</td>\n",
       "      <td>1984.58</td>\n",
       "      <td>MBR</td>\n",
       "      <td>Footwear</td>\n",
       "      <td>4.0</td>\n",
       "      <td>Kids</td>\n",
       "    </tr>\n",
       "    <tr>\n",
       "      <th>99431</th>\n",
       "      <td>274308</td>\n",
       "      <td>29-12-1992</td>\n",
       "      <td>F</td>\n",
       "      <td>5.0</td>\n",
       "      <td>5.735882e+10</td>\n",
       "      <td>274308</td>\n",
       "      <td>5/9/2012</td>\n",
       "      <td>1.0</td>\n",
       "      <td>2.0</td>\n",
       "      <td>4.0</td>\n",
       "      <td>876.0</td>\n",
       "      <td>367.92</td>\n",
       "      <td>3871.92</td>\n",
       "      <td>e-Shop</td>\n",
       "      <td>Footwear</td>\n",
       "      <td>1.0</td>\n",
       "      <td>Mens</td>\n",
       "    </tr>\n",
       "    <tr>\n",
       "      <th>99432</th>\n",
       "      <td>274308</td>\n",
       "      <td>29-12-1992</td>\n",
       "      <td>F</td>\n",
       "      <td>5.0</td>\n",
       "      <td>5.735882e+10</td>\n",
       "      <td>274308</td>\n",
       "      <td>5/9/2012</td>\n",
       "      <td>1.0</td>\n",
       "      <td>2.0</td>\n",
       "      <td>4.0</td>\n",
       "      <td>876.0</td>\n",
       "      <td>367.92</td>\n",
       "      <td>3871.92</td>\n",
       "      <td>e-Shop</td>\n",
       "      <td>Footwear</td>\n",
       "      <td>3.0</td>\n",
       "      <td>Women</td>\n",
       "    </tr>\n",
       "    <tr>\n",
       "      <th>99433</th>\n",
       "      <td>274308</td>\n",
       "      <td>29-12-1992</td>\n",
       "      <td>F</td>\n",
       "      <td>5.0</td>\n",
       "      <td>5.735882e+10</td>\n",
       "      <td>274308</td>\n",
       "      <td>5/9/2012</td>\n",
       "      <td>1.0</td>\n",
       "      <td>2.0</td>\n",
       "      <td>4.0</td>\n",
       "      <td>876.0</td>\n",
       "      <td>367.92</td>\n",
       "      <td>3871.92</td>\n",
       "      <td>e-Shop</td>\n",
       "      <td>Footwear</td>\n",
       "      <td>4.0</td>\n",
       "      <td>Kids</td>\n",
       "    </tr>\n",
       "  </tbody>\n",
       "</table>\n",
       "</div>"
      ],
      "text/plain": [
       "       customer_Id         DOB Gender  city_code  transaction_id  cust_id  \\\n",
       "99424       274308  29-12-1992      F        5.0    5.816054e+10   274308   \n",
       "99425       274308  29-12-1992      F        5.0    5.816054e+10   274308   \n",
       "99426       274308  29-12-1992      F        5.0    5.816054e+10   274308   \n",
       "99427       274308  29-12-1992      F        5.0    5.816054e+10   274308   \n",
       "99428       274308  29-12-1992      F        5.0    2.620869e+10   274308   \n",
       "99429       274308  29-12-1992      F        5.0    2.620869e+10   274308   \n",
       "99430       274308  29-12-1992      F        5.0    2.620869e+10   274308   \n",
       "99431       274308  29-12-1992      F        5.0    5.735882e+10   274308   \n",
       "99432       274308  29-12-1992      F        5.0    5.735882e+10   274308   \n",
       "99433       274308  29-12-1992      F        5.0    5.735882e+10   274308   \n",
       "\n",
       "        tran_date  prod_subcat_code  prod_cat_code  Qty   Rate     Tax  \\\n",
       "99424    4/7/2012              12.0            5.0  5.0  588.0  308.70   \n",
       "99425    4/7/2012              12.0            5.0  5.0  588.0  308.70   \n",
       "99426    4/7/2012              12.0            5.0  5.0  588.0  308.70   \n",
       "99427    4/7/2012              12.0            5.0  5.0  588.0  308.70   \n",
       "99428  22-10-2012               1.0            2.0  2.0  898.0  188.58   \n",
       "99429  22-10-2012               1.0            2.0  2.0  898.0  188.58   \n",
       "99430  22-10-2012               1.0            2.0  2.0  898.0  188.58   \n",
       "99431    5/9/2012               1.0            2.0  4.0  876.0  367.92   \n",
       "99432    5/9/2012               1.0            2.0  4.0  876.0  367.92   \n",
       "99433    5/9/2012               1.0            2.0  4.0  876.0  367.92   \n",
       "\n",
       "       total_amt Store_type  prod_cat  prod_sub_cat_code  prod_subcat  \n",
       "99424    3248.70     e-Shop     Books               10.0  Non-Fiction  \n",
       "99425    3248.70     e-Shop     Books               11.0     Children  \n",
       "99426    3248.70     e-Shop     Books                3.0       Comics  \n",
       "99427    3248.70     e-Shop     Books                6.0          DIY  \n",
       "99428    1984.58        MBR  Footwear                1.0         Mens  \n",
       "99429    1984.58        MBR  Footwear                3.0        Women  \n",
       "99430    1984.58        MBR  Footwear                4.0         Kids  \n",
       "99431    3871.92     e-Shop  Footwear                1.0         Mens  \n",
       "99432    3871.92     e-Shop  Footwear                3.0        Women  \n",
       "99433    3871.92     e-Shop  Footwear                4.0         Kids  "
      ]
     },
     "execution_count": 22,
     "metadata": {},
     "output_type": "execute_result"
    }
   ],
   "source": [
    "Customer_Final.tail(10)"
   ]
  },
  {
   "cell_type": "code",
   "execution_count": 23,
   "metadata": {},
   "outputs": [
    {
     "data": {
      "text/html": [
       "<div>\n",
       "<style scoped>\n",
       "    .dataframe tbody tr th:only-of-type {\n",
       "        vertical-align: middle;\n",
       "    }\n",
       "\n",
       "    .dataframe tbody tr th {\n",
       "        vertical-align: top;\n",
       "    }\n",
       "\n",
       "    .dataframe thead th {\n",
       "        text-align: right;\n",
       "    }\n",
       "</style>\n",
       "<table border=\"1\" class=\"dataframe\">\n",
       "  <thead>\n",
       "    <tr style=\"text-align: right;\">\n",
       "      <th></th>\n",
       "      <th>customer_Id</th>\n",
       "      <th>city_code</th>\n",
       "      <th>transaction_id</th>\n",
       "      <th>cust_id</th>\n",
       "      <th>prod_subcat_code</th>\n",
       "      <th>prod_cat_code</th>\n",
       "      <th>Qty</th>\n",
       "      <th>Rate</th>\n",
       "      <th>Tax</th>\n",
       "      <th>total_amt</th>\n",
       "      <th>prod_sub_cat_code</th>\n",
       "    </tr>\n",
       "  </thead>\n",
       "  <tbody>\n",
       "    <tr>\n",
       "      <th>count</th>\n",
       "      <td>99434.000000</td>\n",
       "      <td>99398.000000</td>\n",
       "      <td>9.929300e+04</td>\n",
       "      <td>99293.000000</td>\n",
       "      <td>99293.000000</td>\n",
       "      <td>99293.000000</td>\n",
       "      <td>99293.000000</td>\n",
       "      <td>99293.000000</td>\n",
       "      <td>99293.000000</td>\n",
       "      <td>99293.000000</td>\n",
       "      <td>99293.000000</td>\n",
       "    </tr>\n",
       "    <tr>\n",
       "      <th>mean</th>\n",
       "      <td>271030.200173</td>\n",
       "      <td>5.466700</td>\n",
       "      <td>5.007320e+10</td>\n",
       "      <td>271030.010635</td>\n",
       "      <td>6.796894</td>\n",
       "      <td>4.003243</td>\n",
       "      <td>2.438017</td>\n",
       "      <td>637.919884</td>\n",
       "      <td>248.873736</td>\n",
       "      <td>2114.616420</td>\n",
       "      <td>6.806985</td>\n",
       "    </tr>\n",
       "    <tr>\n",
       "      <th>std</th>\n",
       "      <td>2429.256505</td>\n",
       "      <td>2.859436</td>\n",
       "      <td>2.899361e+10</td>\n",
       "      <td>2429.333624</td>\n",
       "      <td>3.609439</td>\n",
       "      <td>1.563991</td>\n",
       "      <td>2.260726</td>\n",
       "      <td>621.576326</td>\n",
       "      <td>187.014422</td>\n",
       "      <td>2502.306768</td>\n",
       "      <td>3.615952</td>\n",
       "    </tr>\n",
       "    <tr>\n",
       "      <th>min</th>\n",
       "      <td>266783.000000</td>\n",
       "      <td>1.000000</td>\n",
       "      <td>3.268991e+06</td>\n",
       "      <td>266783.000000</td>\n",
       "      <td>1.000000</td>\n",
       "      <td>1.000000</td>\n",
       "      <td>-5.000000</td>\n",
       "      <td>-1499.000000</td>\n",
       "      <td>7.350000</td>\n",
       "      <td>-8270.925000</td>\n",
       "      <td>1.000000</td>\n",
       "    </tr>\n",
       "    <tr>\n",
       "      <th>25%</th>\n",
       "      <td>268956.000000</td>\n",
       "      <td>3.000000</td>\n",
       "      <td>2.492150e+10</td>\n",
       "      <td>268956.000000</td>\n",
       "      <td>4.000000</td>\n",
       "      <td>3.000000</td>\n",
       "      <td>1.000000</td>\n",
       "      <td>313.000000</td>\n",
       "      <td>98.280000</td>\n",
       "      <td>762.450000</td>\n",
       "      <td>4.000000</td>\n",
       "    </tr>\n",
       "    <tr>\n",
       "      <th>50%</th>\n",
       "      <td>270982.000000</td>\n",
       "      <td>5.000000</td>\n",
       "      <td>5.011083e+10</td>\n",
       "      <td>270982.000000</td>\n",
       "      <td>7.000000</td>\n",
       "      <td>5.000000</td>\n",
       "      <td>3.000000</td>\n",
       "      <td>713.000000</td>\n",
       "      <td>199.920000</td>\n",
       "      <td>1761.370000</td>\n",
       "      <td>7.000000</td>\n",
       "    </tr>\n",
       "    <tr>\n",
       "      <th>75%</th>\n",
       "      <td>273120.000000</td>\n",
       "      <td>8.000000</td>\n",
       "      <td>7.528121e+10</td>\n",
       "      <td>273120.000000</td>\n",
       "      <td>10.000000</td>\n",
       "      <td>5.000000</td>\n",
       "      <td>4.000000</td>\n",
       "      <td>1109.000000</td>\n",
       "      <td>366.975000</td>\n",
       "      <td>3585.725000</td>\n",
       "      <td>10.000000</td>\n",
       "    </tr>\n",
       "    <tr>\n",
       "      <th>max</th>\n",
       "      <td>275265.000000</td>\n",
       "      <td>10.000000</td>\n",
       "      <td>9.998755e+10</td>\n",
       "      <td>275265.000000</td>\n",
       "      <td>12.000000</td>\n",
       "      <td>6.000000</td>\n",
       "      <td>5.000000</td>\n",
       "      <td>1500.000000</td>\n",
       "      <td>787.500000</td>\n",
       "      <td>8287.500000</td>\n",
       "      <td>12.000000</td>\n",
       "    </tr>\n",
       "  </tbody>\n",
       "</table>\n",
       "</div>"
      ],
      "text/plain": [
       "         customer_Id     city_code  transaction_id        cust_id  \\\n",
       "count   99434.000000  99398.000000    9.929300e+04   99293.000000   \n",
       "mean   271030.200173      5.466700    5.007320e+10  271030.010635   \n",
       "std      2429.256505      2.859436    2.899361e+10    2429.333624   \n",
       "min    266783.000000      1.000000    3.268991e+06  266783.000000   \n",
       "25%    268956.000000      3.000000    2.492150e+10  268956.000000   \n",
       "50%    270982.000000      5.000000    5.011083e+10  270982.000000   \n",
       "75%    273120.000000      8.000000    7.528121e+10  273120.000000   \n",
       "max    275265.000000     10.000000    9.998755e+10  275265.000000   \n",
       "\n",
       "       prod_subcat_code  prod_cat_code           Qty          Rate  \\\n",
       "count      99293.000000   99293.000000  99293.000000  99293.000000   \n",
       "mean           6.796894       4.003243      2.438017    637.919884   \n",
       "std            3.609439       1.563991      2.260726    621.576326   \n",
       "min            1.000000       1.000000     -5.000000  -1499.000000   \n",
       "25%            4.000000       3.000000      1.000000    313.000000   \n",
       "50%            7.000000       5.000000      3.000000    713.000000   \n",
       "75%           10.000000       5.000000      4.000000   1109.000000   \n",
       "max           12.000000       6.000000      5.000000   1500.000000   \n",
       "\n",
       "                Tax     total_amt  prod_sub_cat_code  \n",
       "count  99293.000000  99293.000000       99293.000000  \n",
       "mean     248.873736   2114.616420           6.806985  \n",
       "std      187.014422   2502.306768           3.615952  \n",
       "min        7.350000  -8270.925000           1.000000  \n",
       "25%       98.280000    762.450000           4.000000  \n",
       "50%      199.920000   1761.370000           7.000000  \n",
       "75%      366.975000   3585.725000          10.000000  \n",
       "max      787.500000   8287.500000          12.000000  "
      ]
     },
     "execution_count": 23,
     "metadata": {},
     "output_type": "execute_result"
    }
   ],
   "source": [
    "##c. “Five-number summary” for continuous variables (min, Q1, median, Q3 and max)\n",
    "\n",
    "Customer_Final.describe()"
   ]
  },
  {
   "cell_type": "code",
   "execution_count": 24,
   "metadata": {},
   "outputs": [],
   "source": [
    "def Conti_vars_Summary(x):\n",
    "    return (pd.Series([x.min(),x.quantile(0.25),x.median(),x.quantile(0.75),x.max()],index=['MIN','Q1','MEDIAN','Q3','MAX']))"
   ]
  },
  {
   "cell_type": "code",
   "execution_count": 25,
   "metadata": {},
   "outputs": [],
   "source": [
    "Conti_Vars=Customer_Final.loc[:,(Customer_Final.dtypes=='int64')|(Customer_Final.dtypes=='float64')]"
   ]
  },
  {
   "cell_type": "code",
   "execution_count": 26,
   "metadata": {},
   "outputs": [
    {
     "data": {
      "text/html": [
       "<div>\n",
       "<style scoped>\n",
       "    .dataframe tbody tr th:only-of-type {\n",
       "        vertical-align: middle;\n",
       "    }\n",
       "\n",
       "    .dataframe tbody tr th {\n",
       "        vertical-align: top;\n",
       "    }\n",
       "\n",
       "    .dataframe thead th {\n",
       "        text-align: right;\n",
       "    }\n",
       "</style>\n",
       "<table border=\"1\" class=\"dataframe\">\n",
       "  <thead>\n",
       "    <tr style=\"text-align: right;\">\n",
       "      <th></th>\n",
       "      <th>customer_Id</th>\n",
       "      <th>city_code</th>\n",
       "      <th>transaction_id</th>\n",
       "      <th>prod_subcat_code</th>\n",
       "      <th>prod_cat_code</th>\n",
       "      <th>Qty</th>\n",
       "      <th>Rate</th>\n",
       "      <th>Tax</th>\n",
       "      <th>total_amt</th>\n",
       "      <th>prod_sub_cat_code</th>\n",
       "    </tr>\n",
       "  </thead>\n",
       "  <tbody>\n",
       "    <tr>\n",
       "      <th>0</th>\n",
       "      <td>268408</td>\n",
       "      <td>4.0</td>\n",
       "      <td>6.331455e+10</td>\n",
       "      <td>1.0</td>\n",
       "      <td>1.0</td>\n",
       "      <td>1.0</td>\n",
       "      <td>806.0</td>\n",
       "      <td>84.63</td>\n",
       "      <td>890.63</td>\n",
       "      <td>4.0</td>\n",
       "    </tr>\n",
       "    <tr>\n",
       "      <th>1</th>\n",
       "      <td>268408</td>\n",
       "      <td>4.0</td>\n",
       "      <td>6.331455e+10</td>\n",
       "      <td>1.0</td>\n",
       "      <td>1.0</td>\n",
       "      <td>1.0</td>\n",
       "      <td>806.0</td>\n",
       "      <td>84.63</td>\n",
       "      <td>890.63</td>\n",
       "      <td>1.0</td>\n",
       "    </tr>\n",
       "  </tbody>\n",
       "</table>\n",
       "</div>"
      ],
      "text/plain": [
       "   customer_Id  city_code  transaction_id  prod_subcat_code  prod_cat_code  \\\n",
       "0       268408        4.0    6.331455e+10               1.0            1.0   \n",
       "1       268408        4.0    6.331455e+10               1.0            1.0   \n",
       "\n",
       "   Qty   Rate    Tax  total_amt  prod_sub_cat_code  \n",
       "0  1.0  806.0  84.63     890.63                4.0  \n",
       "1  1.0  806.0  84.63     890.63                1.0  "
      ]
     },
     "execution_count": 26,
     "metadata": {},
     "output_type": "execute_result"
    }
   ],
   "source": [
    "Conti_Vars.head(2)"
   ]
  },
  {
   "cell_type": "code",
   "execution_count": 27,
   "metadata": {},
   "outputs": [
    {
     "data": {
      "text/html": [
       "<div>\n",
       "<style scoped>\n",
       "    .dataframe tbody tr th:only-of-type {\n",
       "        vertical-align: middle;\n",
       "    }\n",
       "\n",
       "    .dataframe tbody tr th {\n",
       "        vertical-align: top;\n",
       "    }\n",
       "\n",
       "    .dataframe thead th {\n",
       "        text-align: right;\n",
       "    }\n",
       "</style>\n",
       "<table border=\"1\" class=\"dataframe\">\n",
       "  <thead>\n",
       "    <tr style=\"text-align: right;\">\n",
       "      <th></th>\n",
       "      <th>MIN</th>\n",
       "      <th>Q1</th>\n",
       "      <th>MEDIAN</th>\n",
       "      <th>Q3</th>\n",
       "      <th>MAX</th>\n",
       "    </tr>\n",
       "  </thead>\n",
       "  <tbody>\n",
       "    <tr>\n",
       "      <th>customer_Id</th>\n",
       "      <td>266783.000</td>\n",
       "      <td>2.689560e+05</td>\n",
       "      <td>2.709820e+05</td>\n",
       "      <td>2.731200e+05</td>\n",
       "      <td>2.752650e+05</td>\n",
       "    </tr>\n",
       "    <tr>\n",
       "      <th>city_code</th>\n",
       "      <td>1.000</td>\n",
       "      <td>3.000000e+00</td>\n",
       "      <td>5.000000e+00</td>\n",
       "      <td>8.000000e+00</td>\n",
       "      <td>1.000000e+01</td>\n",
       "    </tr>\n",
       "    <tr>\n",
       "      <th>transaction_id</th>\n",
       "      <td>3268991.000</td>\n",
       "      <td>2.492150e+10</td>\n",
       "      <td>5.011083e+10</td>\n",
       "      <td>7.528121e+10</td>\n",
       "      <td>9.998755e+10</td>\n",
       "    </tr>\n",
       "    <tr>\n",
       "      <th>prod_subcat_code</th>\n",
       "      <td>1.000</td>\n",
       "      <td>4.000000e+00</td>\n",
       "      <td>7.000000e+00</td>\n",
       "      <td>1.000000e+01</td>\n",
       "      <td>1.200000e+01</td>\n",
       "    </tr>\n",
       "    <tr>\n",
       "      <th>prod_cat_code</th>\n",
       "      <td>1.000</td>\n",
       "      <td>3.000000e+00</td>\n",
       "      <td>5.000000e+00</td>\n",
       "      <td>5.000000e+00</td>\n",
       "      <td>6.000000e+00</td>\n",
       "    </tr>\n",
       "    <tr>\n",
       "      <th>Qty</th>\n",
       "      <td>-5.000</td>\n",
       "      <td>1.000000e+00</td>\n",
       "      <td>3.000000e+00</td>\n",
       "      <td>4.000000e+00</td>\n",
       "      <td>5.000000e+00</td>\n",
       "    </tr>\n",
       "    <tr>\n",
       "      <th>Rate</th>\n",
       "      <td>-1499.000</td>\n",
       "      <td>3.130000e+02</td>\n",
       "      <td>7.130000e+02</td>\n",
       "      <td>1.109000e+03</td>\n",
       "      <td>1.500000e+03</td>\n",
       "    </tr>\n",
       "    <tr>\n",
       "      <th>Tax</th>\n",
       "      <td>7.350</td>\n",
       "      <td>9.828000e+01</td>\n",
       "      <td>1.999200e+02</td>\n",
       "      <td>3.669750e+02</td>\n",
       "      <td>7.875000e+02</td>\n",
       "    </tr>\n",
       "    <tr>\n",
       "      <th>total_amt</th>\n",
       "      <td>-8270.925</td>\n",
       "      <td>7.624500e+02</td>\n",
       "      <td>1.761370e+03</td>\n",
       "      <td>3.585725e+03</td>\n",
       "      <td>8.287500e+03</td>\n",
       "    </tr>\n",
       "    <tr>\n",
       "      <th>prod_sub_cat_code</th>\n",
       "      <td>1.000</td>\n",
       "      <td>4.000000e+00</td>\n",
       "      <td>7.000000e+00</td>\n",
       "      <td>1.000000e+01</td>\n",
       "      <td>1.200000e+01</td>\n",
       "    </tr>\n",
       "  </tbody>\n",
       "</table>\n",
       "</div>"
      ],
      "text/plain": [
       "                           MIN            Q1        MEDIAN            Q3  \\\n",
       "customer_Id         266783.000  2.689560e+05  2.709820e+05  2.731200e+05   \n",
       "city_code                1.000  3.000000e+00  5.000000e+00  8.000000e+00   \n",
       "transaction_id     3268991.000  2.492150e+10  5.011083e+10  7.528121e+10   \n",
       "prod_subcat_code         1.000  4.000000e+00  7.000000e+00  1.000000e+01   \n",
       "prod_cat_code            1.000  3.000000e+00  5.000000e+00  5.000000e+00   \n",
       "Qty                     -5.000  1.000000e+00  3.000000e+00  4.000000e+00   \n",
       "Rate                 -1499.000  3.130000e+02  7.130000e+02  1.109000e+03   \n",
       "Tax                      7.350  9.828000e+01  1.999200e+02  3.669750e+02   \n",
       "total_amt            -8270.925  7.624500e+02  1.761370e+03  3.585725e+03   \n",
       "prod_sub_cat_code        1.000  4.000000e+00  7.000000e+00  1.000000e+01   \n",
       "\n",
       "                            MAX  \n",
       "customer_Id        2.752650e+05  \n",
       "city_code          1.000000e+01  \n",
       "transaction_id     9.998755e+10  \n",
       "prod_subcat_code   1.200000e+01  \n",
       "prod_cat_code      6.000000e+00  \n",
       "Qty                5.000000e+00  \n",
       "Rate               1.500000e+03  \n",
       "Tax                7.875000e+02  \n",
       "total_amt          8.287500e+03  \n",
       "prod_sub_cat_code  1.200000e+01  "
      ]
     },
     "execution_count": 27,
     "metadata": {},
     "output_type": "execute_result"
    }
   ],
   "source": [
    "Conti_Vars.apply(Conti_vars_Summary).T"
   ]
  },
  {
   "cell_type": "code",
   "execution_count": 28,
   "metadata": {},
   "outputs": [],
   "source": [
    "Customer_Final.DOB=pd.to_datetime(Customer_Final.DOB,format='%d-%m-%Y')"
   ]
  },
  {
   "cell_type": "code",
   "execution_count": 29,
   "metadata": {},
   "outputs": [
    {
     "data": {
      "text/html": [
       "<div>\n",
       "<style scoped>\n",
       "    .dataframe tbody tr th:only-of-type {\n",
       "        vertical-align: middle;\n",
       "    }\n",
       "\n",
       "    .dataframe tbody tr th {\n",
       "        vertical-align: top;\n",
       "    }\n",
       "\n",
       "    .dataframe thead th {\n",
       "        text-align: right;\n",
       "    }\n",
       "</style>\n",
       "<table border=\"1\" class=\"dataframe\">\n",
       "  <thead>\n",
       "    <tr style=\"text-align: right;\">\n",
       "      <th></th>\n",
       "      <th>customer_Id</th>\n",
       "      <th>DOB</th>\n",
       "      <th>Gender</th>\n",
       "      <th>city_code</th>\n",
       "      <th>transaction_id</th>\n",
       "      <th>cust_id</th>\n",
       "      <th>tran_date</th>\n",
       "      <th>prod_subcat_code</th>\n",
       "      <th>prod_cat_code</th>\n",
       "      <th>Qty</th>\n",
       "      <th>Rate</th>\n",
       "      <th>Tax</th>\n",
       "      <th>total_amt</th>\n",
       "      <th>Store_type</th>\n",
       "      <th>prod_cat</th>\n",
       "      <th>prod_sub_cat_code</th>\n",
       "      <th>prod_subcat</th>\n",
       "    </tr>\n",
       "  </thead>\n",
       "  <tbody>\n",
       "    <tr>\n",
       "      <th>0</th>\n",
       "      <td>268408</td>\n",
       "      <td>1970-01-02</td>\n",
       "      <td>M</td>\n",
       "      <td>4.0</td>\n",
       "      <td>6.331455e+10</td>\n",
       "      <td>268408</td>\n",
       "      <td>26-04-2012</td>\n",
       "      <td>1.0</td>\n",
       "      <td>1.0</td>\n",
       "      <td>1.0</td>\n",
       "      <td>806.0</td>\n",
       "      <td>84.63</td>\n",
       "      <td>890.63</td>\n",
       "      <td>Flagship store</td>\n",
       "      <td>Clothing</td>\n",
       "      <td>4.0</td>\n",
       "      <td>Mens</td>\n",
       "    </tr>\n",
       "    <tr>\n",
       "      <th>1</th>\n",
       "      <td>268408</td>\n",
       "      <td>1970-01-02</td>\n",
       "      <td>M</td>\n",
       "      <td>4.0</td>\n",
       "      <td>6.331455e+10</td>\n",
       "      <td>268408</td>\n",
       "      <td>26-04-2012</td>\n",
       "      <td>1.0</td>\n",
       "      <td>1.0</td>\n",
       "      <td>1.0</td>\n",
       "      <td>806.0</td>\n",
       "      <td>84.63</td>\n",
       "      <td>890.63</td>\n",
       "      <td>Flagship store</td>\n",
       "      <td>Clothing</td>\n",
       "      <td>1.0</td>\n",
       "      <td>Women</td>\n",
       "    </tr>\n",
       "  </tbody>\n",
       "</table>\n",
       "</div>"
      ],
      "text/plain": [
       "   customer_Id        DOB Gender  city_code  transaction_id  cust_id  \\\n",
       "0       268408 1970-01-02      M        4.0    6.331455e+10   268408   \n",
       "1       268408 1970-01-02      M        4.0    6.331455e+10   268408   \n",
       "\n",
       "    tran_date  prod_subcat_code  prod_cat_code  Qty   Rate    Tax  total_amt  \\\n",
       "0  26-04-2012               1.0            1.0  1.0  806.0  84.63     890.63   \n",
       "1  26-04-2012               1.0            1.0  1.0  806.0  84.63     890.63   \n",
       "\n",
       "       Store_type  prod_cat  prod_sub_cat_code prod_subcat  \n",
       "0  Flagship store  Clothing                4.0        Mens  \n",
       "1  Flagship store  Clothing                1.0       Women  "
      ]
     },
     "execution_count": 29,
     "metadata": {},
     "output_type": "execute_result"
    }
   ],
   "source": [
    "Customer_Final.head(2)"
   ]
  },
  {
   "cell_type": "code",
   "execution_count": 30,
   "metadata": {
    "scrolled": true
   },
   "outputs": [],
   "source": [
    "##Customer_Final.tran_date=pd.to_datetime(Customer_Final.tran_date,format=(('%d-%m-%Y') | ('%d/%m/%Y')))"
   ]
  },
  {
   "cell_type": "code",
   "execution_count": 31,
   "metadata": {},
   "outputs": [],
   "source": [
    "##d. Frequency tables for all the categorical variables\n",
    "\n",
    "Catog_vars=Customer_Final.loc[:,Customer_Final.dtypes=='object']"
   ]
  },
  {
   "cell_type": "code",
   "execution_count": 32,
   "metadata": {},
   "outputs": [
    {
     "data": {
      "text/html": [
       "<div>\n",
       "<style scoped>\n",
       "    .dataframe tbody tr th:only-of-type {\n",
       "        vertical-align: middle;\n",
       "    }\n",
       "\n",
       "    .dataframe tbody tr th {\n",
       "        vertical-align: top;\n",
       "    }\n",
       "\n",
       "    .dataframe thead th {\n",
       "        text-align: right;\n",
       "    }\n",
       "</style>\n",
       "<table border=\"1\" class=\"dataframe\">\n",
       "  <thead>\n",
       "    <tr style=\"text-align: right;\">\n",
       "      <th></th>\n",
       "      <th>Gender</th>\n",
       "      <th>tran_date</th>\n",
       "      <th>Store_type</th>\n",
       "      <th>prod_cat</th>\n",
       "      <th>prod_subcat</th>\n",
       "    </tr>\n",
       "  </thead>\n",
       "  <tbody>\n",
       "    <tr>\n",
       "      <th>0</th>\n",
       "      <td>M</td>\n",
       "      <td>26-04-2012</td>\n",
       "      <td>Flagship store</td>\n",
       "      <td>Clothing</td>\n",
       "      <td>Mens</td>\n",
       "    </tr>\n",
       "    <tr>\n",
       "      <th>1</th>\n",
       "      <td>M</td>\n",
       "      <td>26-04-2012</td>\n",
       "      <td>Flagship store</td>\n",
       "      <td>Clothing</td>\n",
       "      <td>Women</td>\n",
       "    </tr>\n",
       "    <tr>\n",
       "      <th>2</th>\n",
       "      <td>M</td>\n",
       "      <td>26-04-2012</td>\n",
       "      <td>Flagship store</td>\n",
       "      <td>Clothing</td>\n",
       "      <td>Kids</td>\n",
       "    </tr>\n",
       "    <tr>\n",
       "      <th>3</th>\n",
       "      <td>M</td>\n",
       "      <td>30-01-2013</td>\n",
       "      <td>e-Shop</td>\n",
       "      <td>Electronics</td>\n",
       "      <td>Mobiles</td>\n",
       "    </tr>\n",
       "    <tr>\n",
       "      <th>4</th>\n",
       "      <td>M</td>\n",
       "      <td>30-01-2013</td>\n",
       "      <td>e-Shop</td>\n",
       "      <td>Electronics</td>\n",
       "      <td>Computers</td>\n",
       "    </tr>\n",
       "    <tr>\n",
       "      <th>...</th>\n",
       "      <td>...</td>\n",
       "      <td>...</td>\n",
       "      <td>...</td>\n",
       "      <td>...</td>\n",
       "      <td>...</td>\n",
       "    </tr>\n",
       "    <tr>\n",
       "      <th>99429</th>\n",
       "      <td>F</td>\n",
       "      <td>22-10-2012</td>\n",
       "      <td>MBR</td>\n",
       "      <td>Footwear</td>\n",
       "      <td>Women</td>\n",
       "    </tr>\n",
       "    <tr>\n",
       "      <th>99430</th>\n",
       "      <td>F</td>\n",
       "      <td>22-10-2012</td>\n",
       "      <td>MBR</td>\n",
       "      <td>Footwear</td>\n",
       "      <td>Kids</td>\n",
       "    </tr>\n",
       "    <tr>\n",
       "      <th>99431</th>\n",
       "      <td>F</td>\n",
       "      <td>5/9/2012</td>\n",
       "      <td>e-Shop</td>\n",
       "      <td>Footwear</td>\n",
       "      <td>Mens</td>\n",
       "    </tr>\n",
       "    <tr>\n",
       "      <th>99432</th>\n",
       "      <td>F</td>\n",
       "      <td>5/9/2012</td>\n",
       "      <td>e-Shop</td>\n",
       "      <td>Footwear</td>\n",
       "      <td>Women</td>\n",
       "    </tr>\n",
       "    <tr>\n",
       "      <th>99433</th>\n",
       "      <td>F</td>\n",
       "      <td>5/9/2012</td>\n",
       "      <td>e-Shop</td>\n",
       "      <td>Footwear</td>\n",
       "      <td>Kids</td>\n",
       "    </tr>\n",
       "  </tbody>\n",
       "</table>\n",
       "<p>99434 rows × 5 columns</p>\n",
       "</div>"
      ],
      "text/plain": [
       "      Gender   tran_date      Store_type     prod_cat prod_subcat\n",
       "0          M  26-04-2012  Flagship store     Clothing        Mens\n",
       "1          M  26-04-2012  Flagship store     Clothing       Women\n",
       "2          M  26-04-2012  Flagship store     Clothing        Kids\n",
       "3          M  30-01-2013          e-Shop  Electronics     Mobiles\n",
       "4          M  30-01-2013          e-Shop  Electronics   Computers\n",
       "...      ...         ...             ...          ...         ...\n",
       "99429      F  22-10-2012             MBR     Footwear       Women\n",
       "99430      F  22-10-2012             MBR     Footwear        Kids\n",
       "99431      F    5/9/2012          e-Shop     Footwear        Mens\n",
       "99432      F    5/9/2012          e-Shop     Footwear       Women\n",
       "99433      F    5/9/2012          e-Shop     Footwear        Kids\n",
       "\n",
       "[99434 rows x 5 columns]"
      ]
     },
     "execution_count": 32,
     "metadata": {},
     "output_type": "execute_result"
    }
   ],
   "source": [
    "Catog_vars"
   ]
  },
  {
   "cell_type": "code",
   "execution_count": 33,
   "metadata": {},
   "outputs": [],
   "source": [
    "def catog_vars_summary(x):\n",
    "    return(pd.Series([x.count(),x.mode(),x.isnull().sum()],index=['Count','Mode','NMISS']))    "
   ]
  },
  {
   "cell_type": "code",
   "execution_count": 34,
   "metadata": {},
   "outputs": [
    {
     "data": {
      "text/html": [
       "<div>\n",
       "<style scoped>\n",
       "    .dataframe tbody tr th:only-of-type {\n",
       "        vertical-align: middle;\n",
       "    }\n",
       "\n",
       "    .dataframe tbody tr th {\n",
       "        vertical-align: top;\n",
       "    }\n",
       "\n",
       "    .dataframe thead th {\n",
       "        text-align: right;\n",
       "    }\n",
       "</style>\n",
       "<table border=\"1\" class=\"dataframe\">\n",
       "  <thead>\n",
       "    <tr style=\"text-align: right;\">\n",
       "      <th></th>\n",
       "      <th>Count</th>\n",
       "      <th>Mode</th>\n",
       "      <th>NMISS</th>\n",
       "    </tr>\n",
       "  </thead>\n",
       "  <tbody>\n",
       "    <tr>\n",
       "      <th>Gender</th>\n",
       "      <td>99394</td>\n",
       "      <td>0    M\n",
       "dtype: object</td>\n",
       "      <td>40</td>\n",
       "    </tr>\n",
       "    <tr>\n",
       "      <th>tran_date</th>\n",
       "      <td>99293</td>\n",
       "      <td>0    25-08-2012\n",
       "dtype: object</td>\n",
       "      <td>141</td>\n",
       "    </tr>\n",
       "    <tr>\n",
       "      <th>Store_type</th>\n",
       "      <td>99293</td>\n",
       "      <td>0    e-Shop\n",
       "dtype: object</td>\n",
       "      <td>141</td>\n",
       "    </tr>\n",
       "    <tr>\n",
       "      <th>prod_cat</th>\n",
       "      <td>99293</td>\n",
       "      <td>0    Books\n",
       "dtype: object</td>\n",
       "      <td>141</td>\n",
       "    </tr>\n",
       "    <tr>\n",
       "      <th>prod_subcat</th>\n",
       "      <td>99293</td>\n",
       "      <td>0     Mens\n",
       "1    Women\n",
       "dtype: object</td>\n",
       "      <td>141</td>\n",
       "    </tr>\n",
       "  </tbody>\n",
       "</table>\n",
       "</div>"
      ],
      "text/plain": [
       "             Count                                 Mode NMISS\n",
       "Gender       99394                 0    M\n",
       "dtype: object    40\n",
       "tran_date    99293        0    25-08-2012\n",
       "dtype: object   141\n",
       "Store_type   99293            0    e-Shop\n",
       "dtype: object   141\n",
       "prod_cat     99293             0    Books\n",
       "dtype: object   141\n",
       "prod_subcat  99293  0     Mens\n",
       "1    Women\n",
       "dtype: object   141"
      ]
     },
     "execution_count": 34,
     "metadata": {},
     "output_type": "execute_result"
    }
   ],
   "source": [
    "Catog_vars.apply(catog_vars_summary).T"
   ]
  },
  {
   "cell_type": "code",
   "execution_count": 35,
   "metadata": {},
   "outputs": [],
   "source": [
    "##3. Generate histograms for all continuous variables and frequency bars for categorical variables."
   ]
  },
  {
   "cell_type": "code",
   "execution_count": 36,
   "metadata": {},
   "outputs": [
    {
     "data": {
      "image/png": "[encoded data removed]",
      "text/plain": [
       "<Figure size 432x288 with 12 Axes>"
      ]
     },
     "metadata": {
      "needs_background": "light"
     },
     "output_type": "display_data"
    }
   ],
   "source": [
    "Conti_Vars.hist(column=Conti_Vars.columns)\n",
    "plt.show()"
   ]
  },
  {
   "cell_type": "code",
   "execution_count": 37,
   "metadata": {},
   "outputs": [],
   "source": [
    "import seaborn as sns"
   ]
  },
  {
   "cell_type": "code",
   "execution_count": 38,
   "metadata": {},
   "outputs": [
    {
     "data": {
      "text/plain": [
       "<matplotlib.axes._subplots.AxesSubplot at 0x22127d87508>"
      ]
     },
     "execution_count": 38,
     "metadata": {},
     "output_type": "execute_result"
    },
    {
     "data": {
      "image/png": "[encoded data removed]",
      "text/plain": [
       "<Figure size 432x288 with 1 Axes>"
      ]
     },
     "metadata": {
      "needs_background": "light"
     },
     "output_type": "display_data"
    }
   ],
   "source": [
    "sns.countplot(Catog_vars.columns)"
   ]
  },
  {
   "cell_type": "code",
   "execution_count": 42,
   "metadata": {},
   "outputs": [],
   "source": [
    "##4. Calculate the following information using the merged dataset :\n",
    "##a. Time period of the available transaction data"
   ]
  },
  {
   "cell_type": "code",
   "execution_count": 43,
   "metadata": {},
   "outputs": [],
   "source": [
    "Customer_Final.tran_date=Customer_Final.tran_date.apply(lambda x : pd.to_datetime(x))"
   ]
  },
  {
   "cell_type": "code",
   "execution_count": 44,
   "metadata": {},
   "outputs": [
    {
     "name": "stdout",
     "output_type": "stream",
     "text": [
      "<class 'pandas.core.frame.DataFrame'>\n",
      "Int64Index: 99434 entries, 0 to 99433\n",
      "Data columns (total 17 columns):\n",
      "customer_Id          99434 non-null int64\n",
      "DOB                  99434 non-null datetime64[ns]\n",
      "Gender               99394 non-null object\n",
      "city_code            99398 non-null float64\n",
      "transaction_id       99293 non-null float64\n",
      "cust_id              99293 non-null Int64\n",
      "tran_date            99293 non-null datetime64[ns]\n",
      "prod_subcat_code     99293 non-null float64\n",
      "prod_cat_code        99293 non-null float64\n",
      "Qty                  99293 non-null float64\n",
      "Rate                 99293 non-null float64\n",
      "Tax                  99293 non-null float64\n",
      "total_amt            99293 non-null float64\n",
      "Store_type           99293 non-null object\n",
      "prod_cat             99293 non-null object\n",
      "prod_sub_cat_code    99293 non-null float64\n",
      "prod_subcat          99293 non-null object\n",
      "dtypes: Int64(1), datetime64[ns](2), float64(9), int64(1), object(4)\n",
      "memory usage: 13.8+ MB\n"
     ]
    }
   ],
   "source": [
    "Customer_Final.info()"
   ]
  },
  {
   "cell_type": "code",
   "execution_count": 45,
   "metadata": {},
   "outputs": [
    {
     "data": {
      "text/plain": [
       "max   2014-12-02\n",
       "min   2011-01-02\n",
       "Name: tran_date, dtype: datetime64[ns]"
      ]
     },
     "execution_count": 45,
     "metadata": {},
     "output_type": "execute_result"
    }
   ],
   "source": [
    "## Time period of the available transaction data is between (max-->2014-12-02 and min-->2011-01-02)\n",
    "\n",
    "Customer_Final.tran_date.agg(['max','min'])"
   ]
  },
  {
   "cell_type": "code",
   "execution_count": 46,
   "metadata": {},
   "outputs": [
    {
     "data": {
      "text/plain": [
       "(9294, 17)"
      ]
     },
     "execution_count": 46,
     "metadata": {},
     "output_type": "execute_result"
    }
   ],
   "source": [
    "## b. Count of transactions where the total amount of transaction was negative\n",
    "Customer_Final.iloc[np.where(Customer_Final.total_amt < 0)].shape"
   ]
  },
  {
   "cell_type": "code",
   "execution_count": 47,
   "metadata": {},
   "outputs": [
    {
     "data": {
      "text/plain": [
       "prod_cat_code\n",
       "5.0    36390\n",
       "Name: Gender, dtype: int64"
      ]
     },
     "execution_count": 47,
     "metadata": {},
     "output_type": "execute_result"
    }
   ],
   "source": [
    "## 5. Analyze which product categories are more popular among females vs male customers.\n",
    "Customer_Final.groupby('prod_cat_code').Gender.count().sort_values(ascending=False).head(1)"
   ]
  },
  {
   "cell_type": "code",
   "execution_count": 48,
   "metadata": {},
   "outputs": [],
   "source": [
    "## 6. Which City code has the maximum customers and what was the percentage of customers from that city?\n",
    "df_cpc=Customer_Final.groupby('city_code').customer_Id.count().reset_index()"
   ]
  },
  {
   "cell_type": "code",
   "execution_count": 49,
   "metadata": {},
   "outputs": [],
   "source": [
    "df_cpc.rename(columns={'customer_Id':'Customer_Count'},inplace=True)"
   ]
  },
  {
   "cell_type": "code",
   "execution_count": 50,
   "metadata": {},
   "outputs": [],
   "source": [
    "df_cpc['Percent_Customer']=(df_cpc.Customer_Count/df_cpc.Customer_Count.sum())*100"
   ]
  },
  {
   "cell_type": "code",
   "execution_count": 51,
   "metadata": {},
   "outputs": [
    {
     "data": {
      "text/html": [
       "<div>\n",
       "<style scoped>\n",
       "    .dataframe tbody tr th:only-of-type {\n",
       "        vertical-align: middle;\n",
       "    }\n",
       "\n",
       "    .dataframe tbody tr th {\n",
       "        vertical-align: top;\n",
       "    }\n",
       "\n",
       "    .dataframe thead th {\n",
       "        text-align: right;\n",
       "    }\n",
       "</style>\n",
       "<table border=\"1\" class=\"dataframe\">\n",
       "  <thead>\n",
       "    <tr style=\"text-align: right;\">\n",
       "      <th></th>\n",
       "      <th>city_code</th>\n",
       "      <th>Customer_Count</th>\n",
       "      <th>Percent_Customer</th>\n",
       "    </tr>\n",
       "  </thead>\n",
       "  <tbody>\n",
       "    <tr>\n",
       "      <th>3</th>\n",
       "      <td>4.0</td>\n",
       "      <td>10584</td>\n",
       "      <td>10.648102</td>\n",
       "    </tr>\n",
       "  </tbody>\n",
       "</table>\n",
       "</div>"
      ],
      "text/plain": [
       "   city_code  Customer_Count  Percent_Customer\n",
       "3        4.0           10584         10.648102"
      ]
     },
     "execution_count": 51,
     "metadata": {},
     "output_type": "execute_result"
    }
   ],
   "source": [
    "df_cpc.sort_values(by='Percent_Customer',ascending=False).head(1)"
   ]
  },
  {
   "cell_type": "markdown",
   "metadata": {},
   "source": [
    "### Checking for unique customers in each city"
   ]
  },
  {
   "cell_type": "code",
   "execution_count": 52,
   "metadata": {},
   "outputs": [],
   "source": [
    "AA1=Customer_Final.groupby('city_code').customer_Id.unique().reset_index()"
   ]
  },
  {
   "cell_type": "code",
   "execution_count": 53,
   "metadata": {},
   "outputs": [
    {
     "data": {
      "text/html": [
       "<div>\n",
       "<style scoped>\n",
       "    .dataframe tbody tr th:only-of-type {\n",
       "        vertical-align: middle;\n",
       "    }\n",
       "\n",
       "    .dataframe tbody tr th {\n",
       "        vertical-align: top;\n",
       "    }\n",
       "\n",
       "    .dataframe thead th {\n",
       "        text-align: right;\n",
       "    }\n",
       "</style>\n",
       "<table border=\"1\" class=\"dataframe\">\n",
       "  <thead>\n",
       "    <tr style=\"text-align: right;\">\n",
       "      <th></th>\n",
       "      <th>city_code</th>\n",
       "      <th>customer_Id</th>\n",
       "    </tr>\n",
       "  </thead>\n",
       "  <tbody>\n",
       "    <tr>\n",
       "      <th>0</th>\n",
       "      <td>1.0</td>\n",
       "      <td>[268073, 270324, 273613, 272028, 272736, 27279...</td>\n",
       "    </tr>\n",
       "    <tr>\n",
       "      <th>1</th>\n",
       "      <td>2.0</td>\n",
       "      <td>[270181, 273391, 267199, 267609, 273316, 27126...</td>\n",
       "    </tr>\n",
       "    <tr>\n",
       "      <th>2</th>\n",
       "      <td>3.0</td>\n",
       "      <td>[274602, 272821, 273016, 270780, 272627, 27045...</td>\n",
       "    </tr>\n",
       "    <tr>\n",
       "      <th>3</th>\n",
       "      <td>4.0</td>\n",
       "      <td>[268408, 275152, 275034, 274630, 273541, 27160...</td>\n",
       "    </tr>\n",
       "    <tr>\n",
       "      <th>4</th>\n",
       "      <td>5.0</td>\n",
       "      <td>[273216, 271344, 270602, 272883, 271692, 27459...</td>\n",
       "    </tr>\n",
       "    <tr>\n",
       "      <th>5</th>\n",
       "      <td>6.0</td>\n",
       "      <td>[269008, 272071, 271626, 272018, 271072, 26853...</td>\n",
       "    </tr>\n",
       "    <tr>\n",
       "      <th>6</th>\n",
       "      <td>7.0</td>\n",
       "      <td>[272455, 267657, 268275, 274717, 273871, 26964...</td>\n",
       "    </tr>\n",
       "    <tr>\n",
       "      <th>7</th>\n",
       "      <td>8.0</td>\n",
       "      <td>[269696, 268159, 266929, 273966, 270829, 26791...</td>\n",
       "    </tr>\n",
       "    <tr>\n",
       "      <th>8</th>\n",
       "      <td>9.0</td>\n",
       "      <td>[266997, 272603, 269765, 267819, 268627, 27146...</td>\n",
       "    </tr>\n",
       "    <tr>\n",
       "      <th>9</th>\n",
       "      <td>10.0</td>\n",
       "      <td>[274593, 270827, 270986, 273150, 272186, 27412...</td>\n",
       "    </tr>\n",
       "  </tbody>\n",
       "</table>\n",
       "</div>"
      ],
      "text/plain": [
       "   city_code                                        customer_Id\n",
       "0        1.0  [268073, 270324, 273613, 272028, 272736, 27279...\n",
       "1        2.0  [270181, 273391, 267199, 267609, 273316, 27126...\n",
       "2        3.0  [274602, 272821, 273016, 270780, 272627, 27045...\n",
       "3        4.0  [268408, 275152, 275034, 274630, 273541, 27160...\n",
       "4        5.0  [273216, 271344, 270602, 272883, 271692, 27459...\n",
       "5        6.0  [269008, 272071, 271626, 272018, 271072, 26853...\n",
       "6        7.0  [272455, 267657, 268275, 274717, 273871, 26964...\n",
       "7        8.0  [269696, 268159, 266929, 273966, 270829, 26791...\n",
       "8        9.0  [266997, 272603, 269765, 267819, 268627, 27146...\n",
       "9       10.0  [274593, 270827, 270986, 273150, 272186, 27412..."
      ]
     },
     "execution_count": 53,
     "metadata": {},
     "output_type": "execute_result"
    }
   ],
   "source": [
    "AA1"
   ]
  },
  {
   "cell_type": "code",
   "execution_count": 54,
   "metadata": {},
   "outputs": [
    {
     "data": {
      "text/plain": [
       "595"
      ]
     },
     "execution_count": 54,
     "metadata": {},
     "output_type": "execute_result"
    }
   ],
   "source": [
    "len(AA1.customer_Id[2])"
   ]
  },
  {
   "cell_type": "code",
   "execution_count": 55,
   "metadata": {},
   "outputs": [],
   "source": [
    "def unique_customer_count(x):\n",
    "    return(len(x))"
   ]
  },
  {
   "cell_type": "code",
   "execution_count": 56,
   "metadata": {},
   "outputs": [
    {
     "data": {
      "text/plain": [
       "0    551\n",
       "1    564\n",
       "2    595\n",
       "3    582\n",
       "4    586\n",
       "5    526\n",
       "6    575\n",
       "7    562\n",
       "8    546\n",
       "9    558\n",
       "Name: customer_Id, dtype: int64"
      ]
     },
     "execution_count": 56,
     "metadata": {},
     "output_type": "execute_result"
    }
   ],
   "source": [
    "AA1.customer_Id.apply(unique_customer_count)"
   ]
  },
  {
   "cell_type": "code",
   "execution_count": 57,
   "metadata": {},
   "outputs": [
    {
     "data": {
      "text/plain": [
       "5645"
      ]
     },
     "execution_count": 57,
     "metadata": {},
     "output_type": "execute_result"
    }
   ],
   "source": [
    "AA1.customer_Id.apply(unique_customer_count).sum()"
   ]
  },
  {
   "cell_type": "code",
   "execution_count": 60,
   "metadata": {},
   "outputs": [],
   "source": [
    "AA1['No_of_Customer']=AA1.customer_Id.apply(len)"
   ]
  },
  {
   "cell_type": "code",
   "execution_count": 61,
   "metadata": {},
   "outputs": [],
   "source": [
    "AA1['Per_Unique Customer']=(AA1.customer_Id.apply(unique_customer_count)/AA1.customer_Id.apply(unique_customer_count).sum())*100"
   ]
  },
  {
   "cell_type": "code",
   "execution_count": 62,
   "metadata": {},
   "outputs": [
    {
     "data": {
      "text/html": [
       "<div>\n",
       "<style scoped>\n",
       "    .dataframe tbody tr th:only-of-type {\n",
       "        vertical-align: middle;\n",
       "    }\n",
       "\n",
       "    .dataframe tbody tr th {\n",
       "        vertical-align: top;\n",
       "    }\n",
       "\n",
       "    .dataframe thead th {\n",
       "        text-align: right;\n",
       "    }\n",
       "</style>\n",
       "<table border=\"1\" class=\"dataframe\">\n",
       "  <thead>\n",
       "    <tr style=\"text-align: right;\">\n",
       "      <th></th>\n",
       "      <th>city_code</th>\n",
       "      <th>customer_Id</th>\n",
       "      <th>No_of_Customer</th>\n",
       "      <th>Per_Unique Customer</th>\n",
       "    </tr>\n",
       "  </thead>\n",
       "  <tbody>\n",
       "    <tr>\n",
       "      <th>2</th>\n",
       "      <td>3.0</td>\n",
       "      <td>[274602, 272821, 273016, 270780, 272627, 27045...</td>\n",
       "      <td>595</td>\n",
       "      <td>10.540301</td>\n",
       "    </tr>\n",
       "  </tbody>\n",
       "</table>\n",
       "</div>"
      ],
      "text/plain": [
       "   city_code                                        customer_Id  \\\n",
       "2        3.0  [274602, 272821, 273016, 270780, 272627, 27045...   \n",
       "\n",
       "   No_of_Customer  Per_Unique Customer  \n",
       "2             595            10.540301  "
      ]
     },
     "execution_count": 62,
     "metadata": {},
     "output_type": "execute_result"
    }
   ],
   "source": [
    "AA1.sort_values('No_of_Customer',ascending=False).head(1)"
   ]
  },
  {
   "cell_type": "code",
   "execution_count": 63,
   "metadata": {},
   "outputs": [
    {
     "data": {
      "text/plain": [
       "Store_type\n",
       "Flagship store    4.188397e+07\n",
       "MBR               4.170033e+07\n",
       "TeleShop          4.046656e+07\n",
       "e-Shop            8.591575e+07\n",
       "Name: total_amt, dtype: float64"
      ]
     },
     "execution_count": 63,
     "metadata": {},
     "output_type": "execute_result"
    }
   ],
   "source": [
    "## 7. Which store type sells the maximum products by value and by quantity?\n",
    "Customer_Final.groupby('Store_type').total_amt.sum()"
   ]
  },
  {
   "cell_type": "code",
   "execution_count": 64,
   "metadata": {},
   "outputs": [
    {
     "data": {
      "text/plain": [
       "Store_type\n",
       "Flagship store    19814\n",
       "MBR               19974\n",
       "TeleShop          19320\n",
       "e-Shop            40185\n",
       "Name: Qty, dtype: int64"
      ]
     },
     "execution_count": 64,
     "metadata": {},
     "output_type": "execute_result"
    }
   ],
   "source": [
    "Customer_Final.groupby('Store_type').Qty.count()"
   ]
  },
  {
   "cell_type": "code",
   "execution_count": 65,
   "metadata": {},
   "outputs": [],
   "source": [
    "## 8. What was the total amount earned from the \"Electronics\" and \"Clothing\" categories from Flagship Stores?\n",
    "df_Flagship=Customer_Final.iloc[np.where((Customer_Final.Store_type=='Flagship store')&((Customer_Final.prod_cat=='Electronics')|(Customer_Final.prod_cat=='Clothing')))]"
   ]
  },
  {
   "cell_type": "code",
   "execution_count": 66,
   "metadata": {},
   "outputs": [
    {
     "data": {
      "text/plain": [
       "14658949.89"
      ]
     },
     "execution_count": 66,
     "metadata": {},
     "output_type": "execute_result"
    }
   ],
   "source": [
    "df_Flagship.total_amt.sum()"
   ]
  },
  {
   "cell_type": "code",
   "execution_count": 67,
   "metadata": {},
   "outputs": [],
   "source": [
    "## 9. What was the total amount earned from \"Male\" customers under the \"Electronics\" category?\n",
    "df_GE=Customer_Final.iloc[np.where((Customer_Final.Gender=='M')&(Customer_Final.prod_cat=='Electronics'))]"
   ]
  },
  {
   "cell_type": "code",
   "execution_count": 68,
   "metadata": {},
   "outputs": [
    {
     "data": {
      "text/plain": [
       "28515547.125"
      ]
     },
     "execution_count": 68,
     "metadata": {},
     "output_type": "execute_result"
    }
   ],
   "source": [
    "df_GE.total_amt.sum()"
   ]
  },
  {
   "cell_type": "code",
   "execution_count": 69,
   "metadata": {},
   "outputs": [],
   "source": [
    "## 10. How many customers have more than 10 unique transactions, after removing all transactions \n",
    "##which have any negative amounts?\n",
    "\n",
    "df_positive_amount=Customer_Final.iloc[np.where(Customer_Final.total_amt>0)]"
   ]
  },
  {
   "cell_type": "code",
   "execution_count": 70,
   "metadata": {},
   "outputs": [],
   "source": [
    "BB1=df_positive_amount.groupby('customer_Id').transaction_id.unique().reset_index()"
   ]
  },
  {
   "cell_type": "code",
   "execution_count": 71,
   "metadata": {},
   "outputs": [
    {
     "data": {
      "text/html": [
       "<div>\n",
       "<style scoped>\n",
       "    .dataframe tbody tr th:only-of-type {\n",
       "        vertical-align: middle;\n",
       "    }\n",
       "\n",
       "    .dataframe tbody tr th {\n",
       "        vertical-align: top;\n",
       "    }\n",
       "\n",
       "    .dataframe thead th {\n",
       "        text-align: right;\n",
       "    }\n",
       "</style>\n",
       "<table border=\"1\" class=\"dataframe\">\n",
       "  <thead>\n",
       "    <tr style=\"text-align: right;\">\n",
       "      <th></th>\n",
       "      <th>customer_Id</th>\n",
       "      <th>transaction_id</th>\n",
       "    </tr>\n",
       "  </thead>\n",
       "  <tbody>\n",
       "    <tr>\n",
       "      <th>0</th>\n",
       "      <td>266783</td>\n",
       "      <td>[8410316370.0, 98477711300.0, 16999552161.0, 2...</td>\n",
       "    </tr>\n",
       "    <tr>\n",
       "      <th>1</th>\n",
       "      <td>266784</td>\n",
       "      <td>[36310127403.0, 26928161256.0, 54234600611.0]</td>\n",
       "    </tr>\n",
       "    <tr>\n",
       "      <th>2</th>\n",
       "      <td>266785</td>\n",
       "      <td>[17960226367.0, 96176911576.0, 72638047851.0, ...</td>\n",
       "    </tr>\n",
       "    <tr>\n",
       "      <th>3</th>\n",
       "      <td>266788</td>\n",
       "      <td>[4236411732.0, 89000309020.0, 86711622576.0, 5...</td>\n",
       "    </tr>\n",
       "    <tr>\n",
       "      <th>4</th>\n",
       "      <td>266794</td>\n",
       "      <td>[89950500283.0, 21355537809.0, 42435707527.0, ...</td>\n",
       "    </tr>\n",
       "    <tr>\n",
       "      <th>...</th>\n",
       "      <td>...</td>\n",
       "      <td>...</td>\n",
       "    </tr>\n",
       "    <tr>\n",
       "      <th>5501</th>\n",
       "      <td>275257</td>\n",
       "      <td>[66744674335.0, 76980013820.0, 96061314451.0, ...</td>\n",
       "    </tr>\n",
       "    <tr>\n",
       "      <th>5502</th>\n",
       "      <td>275261</td>\n",
       "      <td>[81880568368.0, 45067329959.0, 62560589211.0]</td>\n",
       "    </tr>\n",
       "    <tr>\n",
       "      <th>5503</th>\n",
       "      <td>275262</td>\n",
       "      <td>[59153499387.0, 37292690651.0]</td>\n",
       "    </tr>\n",
       "    <tr>\n",
       "      <th>5504</th>\n",
       "      <td>275264</td>\n",
       "      <td>[94712826085.0, 81382444243.0]</td>\n",
       "    </tr>\n",
       "    <tr>\n",
       "      <th>5505</th>\n",
       "      <td>275265</td>\n",
       "      <td>[38961184788.0, 24113900219.0, 7214136016.0]</td>\n",
       "    </tr>\n",
       "  </tbody>\n",
       "</table>\n",
       "<p>5506 rows × 2 columns</p>\n",
       "</div>"
      ],
      "text/plain": [
       "      customer_Id                                     transaction_id\n",
       "0          266783  [8410316370.0, 98477711300.0, 16999552161.0, 2...\n",
       "1          266784      [36310127403.0, 26928161256.0, 54234600611.0]\n",
       "2          266785  [17960226367.0, 96176911576.0, 72638047851.0, ...\n",
       "3          266788  [4236411732.0, 89000309020.0, 86711622576.0, 5...\n",
       "4          266794  [89950500283.0, 21355537809.0, 42435707527.0, ...\n",
       "...           ...                                                ...\n",
       "5501       275257  [66744674335.0, 76980013820.0, 96061314451.0, ...\n",
       "5502       275261      [81880568368.0, 45067329959.0, 62560589211.0]\n",
       "5503       275262                     [59153499387.0, 37292690651.0]\n",
       "5504       275264                     [94712826085.0, 81382444243.0]\n",
       "5505       275265       [38961184788.0, 24113900219.0, 7214136016.0]\n",
       "\n",
       "[5506 rows x 2 columns]"
      ]
     },
     "execution_count": 71,
     "metadata": {},
     "output_type": "execute_result"
    }
   ],
   "source": [
    "BB1"
   ]
  },
  {
   "cell_type": "code",
   "execution_count": 72,
   "metadata": {},
   "outputs": [],
   "source": [
    "BB1['Transaction_Count']=BB1.transaction_id.apply(len)"
   ]
  },
  {
   "cell_type": "code",
   "execution_count": 73,
   "metadata": {},
   "outputs": [
    {
     "data": {
      "text/plain": [
       "(6, 3)"
      ]
     },
     "execution_count": 73,
     "metadata": {},
     "output_type": "execute_result"
    }
   ],
   "source": [
    "BB1.iloc[np.where(BB1.Transaction_Count>10)].shape"
   ]
  },
  {
   "cell_type": "code",
   "execution_count": 74,
   "metadata": {},
   "outputs": [],
   "source": [
    "##11. For all customers aged between 25 - 35, find out:\n",
    "## a. What was the total amount spent for “Electronics” and “Books” product categories?"
   ]
  },
  {
   "cell_type": "code",
   "execution_count": 75,
   "metadata": {},
   "outputs": [],
   "source": [
    "Customer_Final['Year_dob']=pd.DatetimeIndex(Customer_Final.DOB).year"
   ]
  },
  {
   "cell_type": "code",
   "execution_count": 76,
   "metadata": {},
   "outputs": [],
   "source": [
    "Customer_Final['Age']=pd.Timestamp.now().year - Customer_Final.Year_dob"
   ]
  },
  {
   "cell_type": "code",
   "execution_count": 77,
   "metadata": {},
   "outputs": [],
   "source": [
    "CC1=Customer_Final.iloc[np.where((Customer_Final.Age > 25)&(Customer_Final.Age < 35))]"
   ]
  },
  {
   "cell_type": "code",
   "execution_count": 78,
   "metadata": {},
   "outputs": [
    {
     "data": {
      "text/plain": [
       "38905651.06999999"
      ]
     },
     "execution_count": 78,
     "metadata": {},
     "output_type": "execute_result"
    }
   ],
   "source": [
    "CC1.iloc[np.where((CC1.prod_cat=='Electronics')|(CC1.prod_cat=='Books'))].total_amt.sum()"
   ]
  },
  {
   "cell_type": "code",
   "execution_count": 79,
   "metadata": {},
   "outputs": [],
   "source": [
    "## b. What was the total amount spent by these customers between 1st Jan, 2014 to 1st Mar, 2014?\n",
    "Customer_Final.tran_date=Customer_Final.tran_date.astype(str)"
   ]
  },
  {
   "cell_type": "code",
   "execution_count": 80,
   "metadata": {},
   "outputs": [
    {
     "data": {
      "text/plain": [
       "5591225.965"
      ]
     },
     "execution_count": 80,
     "metadata": {},
     "output_type": "execute_result"
    }
   ],
   "source": [
    "Customer_Final.iloc[np.where((Customer_Final.tran_date>'2014-01-01')&(Customer_Final.tran_date<'2014-03-01'))].total_amt.sum()"
   ]
  }
 ],
 "metadata": {
  "kernelspec": {
   "display_name": "Python 3",
   "language": "python",
   "name": "python3"
  },
  "language_info": {
   "codemirror_mode": {
    "name": "ipython",
    "version": 3
   },
   "file_extension": ".py",
   "mimetype": "text/x-python",
   "name": "python",
   "nbconvert_exporter": "python",
   "pygments_lexer": "ipython3",
   "version": "3.7.4"
  }
 },
 "nbformat": 4,
 "nbformat_minor": 2
}
